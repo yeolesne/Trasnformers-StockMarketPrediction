{
  "nbformat": 4,
  "nbformat_minor": 0,
  "metadata": {
    "colab": {
      "name": "Latent_Manifold_and_Regression.ipynb",
      "provenance": [],
      "collapsed_sections": []
    },
    "kernelspec": {
      "name": "python3",
      "display_name": "Python 3"
    }
  }, 
  "cells": [
    {
      "cell_type": "markdown",
      "metadata": {
        "id": "dTjybxBipuH7",
        "colab_type": "text"
      },
      "source": [
        "**DATA NARRATIVE**\n",
        "\n",
        "**Recession Prediction**\n",
        "\n",
        "**Team : transformers-stock-market-prediction**\n",
        "\n",
        "Team Members: \n",
        "\n",
        "*   Amrutha Singh Balaji Singh\n",
        "*   Anand Muralidhara\n",
        "*   Snehal Yeole\n",
        "*   Poorva Agarwal\n",
        "\n",
        "\n",
        "**Tasks**\n",
        "\n",
        "1. Data preparation and analysis - Anand\n",
        "2. Apply Linear Regression and predicting result before data enrichment - Poorva\n",
        "3. Data Enrichment and Data Cleaning - Snehal\n",
        "4. Apply Linear Regression and predicting result post data enrichment - Amrutha\n",
        "5. Identify Latent Manifold - **Entire team**\n",
        "6. Use the manifold to add features to the dataset and run regression based on those new features - **Entire team**\n",
        "\n",
        "\n",
        "\n",
        "**Machine Learning Lifecycle:**\n",
        " \n",
        "* Configuration of the System : Google Colab. \n",
        "\n",
        "Dataset is uploaded on the team folder on Drive - \n",
        "\n",
        "https://drive.google.com/file/d/1GD2bti19qfpow2QfkjQFeaFq1zfy-5UH/view?usp=sharing\n",
        "\n",
        "https://drive.google.com/file/d/1fbDcFcxbqyuX3H_1Ea9gSOWkrobPkdBb/view?usp=sharing\n",
        "\n",
        "**Business Objective:** The main objective of this project is to predict the bubble formation and next recession based on several factors such as yields on short-and long-term maturity bonds, NASDAQ index and Unemployment rate. These factors are the strong indicators in determining the probability of an upcoming recession.\n",
        "\n",
        "**Dataset:** We are using dataset with NASDAQ, Unemployment rate and Yield curve with the difference of 10-year and 2 year treasury notes (The column T10Y2Y in the dataset stands for 10-Year Treasury Constant Maturity and 2-Year Treasury Constant Maturity). For the purpose of this assignment, I am going to consider Unemployment and Yield curve which are strong indicators for bubble prediction.\n",
        "\n",
        "The dataset can be found on the common google drive under “transformers-stock-market-prediction” folder.\n",
        "\n",
        "Multiple factors were considered for Data Collection - NASDAQ, YIELD curve, GDP and UNEMPLOYMENT. Since NASDAQ is a good predcitor of recession. We are planning to predict NASDAQ using the remaining three factors i.e GDP, UNEMPLOYMENT and YIELD curve. The dataset for these factors were extracted from - \n",
        "\n",
        "https://fred.stlouisfed.org/series/FEDFUNDS \n",
        "\n",
        "https://fred.stlouisfed.org/series/NASDAQCOM\n",
        "\n",
        "https://fred.stlouisfed.org/series/GDPC1\n",
        "\n",
        "https://fred.stlouisfed.org/series/UNEMPLOY\n",
        "\n",
        "All the factors can be found in the dataset - \n",
        "\n",
        "https://drive.google.com/file/d/1GD2bti19qfpow2QfkjQFeaFq1zfy-5UH/view?usp=sharing\n",
        "\n",
        "**Link of dataset on drive:**\n",
        "\n",
        "https://drive.google.com/file/d/1GD2bti19qfpow2QfkjQFeaFq1zfy-5UH/view?usp=sharing\n",
        "\n",
        "**Data Interpretation:** Initially our dataset included NASDAQ, UNEMPLOYMENT and YIELD curve values, since these are strong indicators of recession. The yield curve values represented that long term investment (10 year) is lower than the yield on short term investment (2 year) Real GDP - Growth rate less than 2% indicates Bubble formation and less than 0% or negative values indicate Recession period.\n",
        "\n",
        "In the previous Assignment of unsupervised learning, we applied K means and GMM clustering algorithm to get clusters and we noticed that we got clusters in the form of positive and negative values. The negative values represented recession.\n",
        "\n",
        "The data interpretation derived after applying unsupervised clustering algorithms on Yield curve and Unemployment rate in the data set is - The unemployment rate grows as the yeild curve grows and the unemployment rate decreases as the yeild curve decreases.\n",
        "We added the above column 'RECESSION' to our dataset. \n",
        "\n",
        " \n",
        "**New Insights:** In addition to Nasdaq and Yield curve, the unemployment rate is also a strong indicator for bubble prediction.\n"
      ]
    },
    {
      "cell_type": "markdown",
      "metadata": {
        "id": "9E5qFOQfp0yA",
        "colab_type": "text"
      },
      "source": [
        "**Code snippet to mount the google drive on colab**\n"
      ]
    },
    {
      "cell_type": "code",
      "metadata": {
        "id": "M1JzmZqOp7RK",
        "colab_type": "code",
        "outputId": "008b5849-7699-4ce6-945b-a39f17037247",
        "colab": {
          "base_uri": "https://localhost:8080/",
          "height": 35
        }
      },
      "source": [
        "from google.colab import drive\n",
        "drive.mount('/content/drive')"
      ],
      "execution_count": 193,
      "outputs": [
        {
          "output_type": "stream",
          "text": [
            "Drive already mounted at /content/drive; to attempt to forcibly remount, call drive.mount(\"/content/drive\", force_remount=True).\n"
          ],
          "name": "stdout"
        }
      ]
    },
    {
      "cell_type": "markdown",
      "metadata": {
        "id": "RIC2FkNerH21",
        "colab_type": "text"
      },
      "source": [
        "**Mention the location of your dataset on google drive**"
      ]
    },
    {
      "cell_type": "code",
      "metadata": {
        "id": "XqjtXhX1rJpQ",
        "colab_type": "code",
        "outputId": "174f4850-2327-4164-aa5c-77ccfa158faf",
        "colab": {
          "base_uri": "https://localhost:8080/",
          "height": 35
        }
      },
      "source": [
        "cd '/content/drive/My Drive/DataSets'"
      ],
      "execution_count": 194,
      "outputs": [
        {
          "output_type": "stream",
          "text": [
            "/content/drive/My Drive/DataSets\n"
          ],
          "name": "stdout"
        }
      ]
    },
    {
      "cell_type": "markdown",
      "metadata": {
        "id": "Spgb0Q0srOxU",
        "colab_type": "text"
      },
      "source": [
        "**Importing required libraries for clustering**"
      ]
    },
    {
      "cell_type": "code",
      "metadata": {
        "id": "maxV0nlDrQZp",
        "colab_type": "code",
        "colab": {}
      },
      "source": [
        "import pandas as pd\n",
        "import numpy as np\n",
        "import seaborn as sns\n",
        "from sklearn.cluster import KMeans\n",
        "import matplotlib.pyplot as plt\n",
        "%matplotlib inline\n",
        "from sklearn.preprocessing import MinMaxScaler\n",
        "from sklearn.linear_model import LinearRegression"
      ],
      "execution_count": 0,
      "outputs": []
    },
    {
      "cell_type": "markdown",
      "metadata": {
        "id": "t6wDrrSurk8Z",
        "colab_type": "text"
      },
      "source": [
        "**Code to read the recession factors dataset csv file and print the first few records**"
      ]
    },
    {
      "cell_type": "code",
      "metadata": {
        "id": "m7L0IHc-rnN0",
        "colab_type": "code",
        "outputId": "10d4f4d5-8870-4879-8928-1b7ca7916533",
        "colab": {
          "base_uri": "https://localhost:8080/",
          "height": 202
        }
      },
      "source": [
        "data_records = pd.read_csv(\"/content/drive/My Drive/DataSets/nasdaq-unemploy-gdp-yield-quarterly.csv\", sep=',', usecols=['DATE','NASDAQ','UNEMPLOY','YIELD'])\n",
        "data_records.head()"
      ],
      "execution_count": 196,
      "outputs": [
        {
          "output_type": "execute_result",
          "data": {
            "text/html": [
              "<div>\n",
              "<style scoped>\n",
              "    .dataframe tbody tr th:only-of-type {\n",
              "        vertical-align: middle;\n",
              "    }\n",
              "\n",
              "    .dataframe tbody tr th {\n",
              "        vertical-align: top;\n",
              "    }\n",
              "\n",
              "    .dataframe thead th {\n",
              "        text-align: right;\n",
              "    }\n",
              "</style>\n",
              "<table border=\"1\" class=\"dataframe\">\n",
              "  <thead>\n",
              "    <tr style=\"text-align: right;\">\n",
              "      <th></th>\n",
              "      <th>DATE</th>\n",
              "      <th>NASDAQ</th>\n",
              "      <th>YIELD</th>\n",
              "      <th>UNEMPLOY</th>\n",
              "    </tr>\n",
              "  </thead>\n",
              "  <tbody>\n",
              "    <tr>\n",
              "      <th>0</th>\n",
              "      <td>7/1/1976</td>\n",
              "      <td>91.235625</td>\n",
              "      <td>187.83026</td>\n",
              "      <td>7462.666667</td>\n",
              "    </tr>\n",
              "    <tr>\n",
              "      <th>1</th>\n",
              "      <td>10/1/1976</td>\n",
              "      <td>91.274127</td>\n",
              "      <td>250.63286</td>\n",
              "      <td>7531.666667</td>\n",
              "    </tr>\n",
              "    <tr>\n",
              "      <th>2</th>\n",
              "      <td>1/1/1977</td>\n",
              "      <td>96.217460</td>\n",
              "      <td>227.54796</td>\n",
              "      <td>7343.333333</td>\n",
              "    </tr>\n",
              "    <tr>\n",
              "      <th>3</th>\n",
              "      <td>4/1/1977</td>\n",
              "      <td>96.650317</td>\n",
              "      <td>213.20591</td>\n",
              "      <td>7034.666667</td>\n",
              "    </tr>\n",
              "    <tr>\n",
              "      <th>4</th>\n",
              "      <td>7/1/1977</td>\n",
              "      <td>100.756191</td>\n",
              "      <td>139.16403</td>\n",
              "      <td>6835.000000</td>\n",
              "    </tr>\n",
              "  </tbody>\n",
              "</table>\n",
              "</div>"
            ],
            "text/plain": [
              "        DATE      NASDAQ      YIELD     UNEMPLOY\n",
              "0   7/1/1976   91.235625  187.83026  7462.666667\n",
              "1  10/1/1976   91.274127  250.63286  7531.666667\n",
              "2   1/1/1977   96.217460  227.54796  7343.333333\n",
              "3   4/1/1977   96.650317  213.20591  7034.666667\n",
              "4   7/1/1977  100.756191  139.16403  6835.000000"
            ]
          },
          "metadata": {
            "tags": []
          },
          "execution_count": 196
        }
      ]
    },
    {
      "cell_type": "markdown",
      "metadata": {
        "id": "G8tyByfgsXh3",
        "colab_type": "text"
      },
      "source": [
        "**Print entire records from recession dataset**\n"
      ]
    },
    {
      "cell_type": "code",
      "metadata": {
        "id": "PnkGzbXusZsV",
        "colab_type": "code",
        "colab": {
          "base_uri": "https://localhost:8080/",
          "height": 1000
        },
        "outputId": "6e80cafa-0288-40cf-dd38-8eb2cabd40d2"
      },
      "source": [
        "data_records"
      ],
      "execution_count": 197,
      "outputs": [
        {
          "output_type": "execute_result",
          "data": {
            "text/html": [
              "<div>\n",
              "<style scoped>\n",
              "    .dataframe tbody tr th:only-of-type {\n",
              "        vertical-align: middle;\n",
              "    }\n",
              "\n",
              "    .dataframe tbody tr th {\n",
              "        vertical-align: top;\n",
              "    }\n",
              "\n",
              "    .dataframe thead th {\n",
              "        text-align: right;\n",
              "    }\n",
              "</style>\n",
              "<table border=\"1\" class=\"dataframe\">\n",
              "  <thead>\n",
              "    <tr style=\"text-align: right;\">\n",
              "      <th></th>\n",
              "      <th>DATE</th>\n",
              "      <th>NASDAQ</th>\n",
              "      <th>YIELD</th>\n",
              "      <th>UNEMPLOY</th>\n",
              "    </tr>\n",
              "  </thead>\n",
              "  <tbody>\n",
              "    <tr>\n",
              "      <th>0</th>\n",
              "      <td>7/1/1976</td>\n",
              "      <td>91.235625</td>\n",
              "      <td>187.83026</td>\n",
              "      <td>7462.666667</td>\n",
              "    </tr>\n",
              "    <tr>\n",
              "      <th>1</th>\n",
              "      <td>10/1/1976</td>\n",
              "      <td>91.274127</td>\n",
              "      <td>250.63286</td>\n",
              "      <td>7531.666667</td>\n",
              "    </tr>\n",
              "    <tr>\n",
              "      <th>2</th>\n",
              "      <td>1/1/1977</td>\n",
              "      <td>96.217460</td>\n",
              "      <td>227.54796</td>\n",
              "      <td>7343.333333</td>\n",
              "    </tr>\n",
              "    <tr>\n",
              "      <th>3</th>\n",
              "      <td>4/1/1977</td>\n",
              "      <td>96.650317</td>\n",
              "      <td>213.20591</td>\n",
              "      <td>7034.666667</td>\n",
              "    </tr>\n",
              "    <tr>\n",
              "      <th>4</th>\n",
              "      <td>7/1/1977</td>\n",
              "      <td>100.756191</td>\n",
              "      <td>139.16403</td>\n",
              "      <td>6835.000000</td>\n",
              "    </tr>\n",
              "    <tr>\n",
              "      <th>5</th>\n",
              "      <td>10/1/1977</td>\n",
              "      <td>101.216508</td>\n",
              "      <td>77.68704</td>\n",
              "      <td>6654.666667</td>\n",
              "    </tr>\n",
              "    <tr>\n",
              "      <th>6</th>\n",
              "      <td>1/1/1978</td>\n",
              "      <td>102.436452</td>\n",
              "      <td>79.66154</td>\n",
              "      <td>6381.333333</td>\n",
              "    </tr>\n",
              "    <tr>\n",
              "      <th>7</th>\n",
              "      <td>4/1/1978</td>\n",
              "      <td>117.489531</td>\n",
              "      <td>54.87395</td>\n",
              "      <td>6111.666667</td>\n",
              "    </tr>\n",
              "    <tr>\n",
              "      <th>8</th>\n",
              "      <td>7/1/1978</td>\n",
              "      <td>130.087143</td>\n",
              "      <td>2.84672</td>\n",
              "      <td>6171.333333</td>\n",
              "    </tr>\n",
              "    <tr>\n",
              "      <th>9</th>\n",
              "      <td>10/1/1978</td>\n",
              "      <td>119.848413</td>\n",
              "      <td>-86.82968</td>\n",
              "      <td>6084.000000</td>\n",
              "    </tr>\n",
              "    <tr>\n",
              "      <th>10</th>\n",
              "      <td>1/1/1979</td>\n",
              "      <td>125.492064</td>\n",
              "      <td>-117.49615</td>\n",
              "      <td>6130.333333</td>\n",
              "    </tr>\n",
              "    <tr>\n",
              "      <th>11</th>\n",
              "      <td>4/1/1979</td>\n",
              "      <td>133.444603</td>\n",
              "      <td>-81.35196</td>\n",
              "      <td>5956.000000</td>\n",
              "    </tr>\n",
              "    <tr>\n",
              "      <th>12</th>\n",
              "      <td>7/1/1979</td>\n",
              "      <td>144.743333</td>\n",
              "      <td>-74.61122</td>\n",
              "      <td>6168.666667</td>\n",
              "    </tr>\n",
              "    <tr>\n",
              "      <th>13</th>\n",
              "      <td>10/1/1979</td>\n",
              "      <td>142.523750</td>\n",
              "      <td>-191.04770</td>\n",
              "      <td>6286.333333</td>\n",
              "    </tr>\n",
              "    <tr>\n",
              "      <th>14</th>\n",
              "      <td>1/1/1980</td>\n",
              "      <td>152.525238</td>\n",
              "      <td>-218.27010</td>\n",
              "      <td>6704.666667</td>\n",
              "    </tr>\n",
              "    <tr>\n",
              "      <th>15</th>\n",
              "      <td>4/1/1980</td>\n",
              "      <td>145.800159</td>\n",
              "      <td>42.86350</td>\n",
              "      <td>7813.333333</td>\n",
              "    </tr>\n",
              "    <tr>\n",
              "      <th>16</th>\n",
              "      <td>7/1/1980</td>\n",
              "      <td>177.873125</td>\n",
              "      <td>100.00000</td>\n",
              "      <td>8221.666667</td>\n",
              "    </tr>\n",
              "    <tr>\n",
              "      <th>17</th>\n",
              "      <td>10/1/1980</td>\n",
              "      <td>198.087937</td>\n",
              "      <td>-136.16664</td>\n",
              "      <td>7943.000000</td>\n",
              "    </tr>\n",
              "    <tr>\n",
              "      <th>18</th>\n",
              "      <td>1/1/1981</td>\n",
              "      <td>199.296935</td>\n",
              "      <td>-105.19804</td>\n",
              "      <td>8034.666667</td>\n",
              "    </tr>\n",
              "    <tr>\n",
              "      <th>19</th>\n",
              "      <td>4/1/1981</td>\n",
              "      <td>217.290159</td>\n",
              "      <td>-162.12759</td>\n",
              "      <td>8047.000000</td>\n",
              "    </tr>\n",
              "    <tr>\n",
              "      <th>20</th>\n",
              "      <td>7/1/1981</td>\n",
              "      <td>200.716094</td>\n",
              "      <td>-202.08167</td>\n",
              "      <td>8043.000000</td>\n",
              "    </tr>\n",
              "    <tr>\n",
              "      <th>21</th>\n",
              "      <td>10/1/1981</td>\n",
              "      <td>195.410937</td>\n",
              "      <td>29.28857</td>\n",
              "      <td>8980.666667</td>\n",
              "    </tr>\n",
              "    <tr>\n",
              "      <th>22</th>\n",
              "      <td>1/1/1982</td>\n",
              "      <td>180.790968</td>\n",
              "      <td>-40.04078</td>\n",
              "      <td>9665.666667</td>\n",
              "    </tr>\n",
              "    <tr>\n",
              "      <th>23</th>\n",
              "      <td>4/1/1982</td>\n",
              "      <td>179.309841</td>\n",
              "      <td>-37.08872</td>\n",
              "      <td>10372.333330</td>\n",
              "    </tr>\n",
              "    <tr>\n",
              "      <th>24</th>\n",
              "      <td>7/1/1982</td>\n",
              "      <td>173.929688</td>\n",
              "      <td>82.43928</td>\n",
              "      <td>10982.333330</td>\n",
              "    </tr>\n",
              "    <tr>\n",
              "      <th>25</th>\n",
              "      <td>10/1/1982</td>\n",
              "      <td>221.471094</td>\n",
              "      <td>134.48661</td>\n",
              "      <td>11839.333330</td>\n",
              "    </tr>\n",
              "    <tr>\n",
              "      <th>26</th>\n",
              "      <td>1/1/1983</td>\n",
              "      <td>254.992857</td>\n",
              "      <td>173.40603</td>\n",
              "      <td>11495.666670</td>\n",
              "    </tr>\n",
              "    <tr>\n",
              "      <th>27</th>\n",
              "      <td>4/1/1983</td>\n",
              "      <td>301.070476</td>\n",
              "      <td>135.61241</td>\n",
              "      <td>11222.666670</td>\n",
              "    </tr>\n",
              "    <tr>\n",
              "      <th>28</th>\n",
              "      <td>7/1/1983</td>\n",
              "      <td>304.027344</td>\n",
              "      <td>132.95970</td>\n",
              "      <td>10484.333330</td>\n",
              "    </tr>\n",
              "    <tr>\n",
              "      <th>29</th>\n",
              "      <td>10/1/1983</td>\n",
              "      <td>281.348413</td>\n",
              "      <td>170.06316</td>\n",
              "      <td>9572.333333</td>\n",
              "    </tr>\n",
              "    <tr>\n",
              "      <th>...</th>\n",
              "      <td>...</td>\n",
              "      <td>...</td>\n",
              "      <td>...</td>\n",
              "      <td>...</td>\n",
              "    </tr>\n",
              "    <tr>\n",
              "      <th>142</th>\n",
              "      <td>1/1/2012</td>\n",
              "      <td>2907.188065</td>\n",
              "      <td>298.98844</td>\n",
              "      <td>12774.333330</td>\n",
              "    </tr>\n",
              "    <tr>\n",
              "      <th>143</th>\n",
              "      <td>4/1/2012</td>\n",
              "      <td>2926.483810</td>\n",
              "      <td>262.39658</td>\n",
              "      <td>12666.000000</td>\n",
              "    </tr>\n",
              "    <tr>\n",
              "      <th>144</th>\n",
              "      <td>7/1/2012</td>\n",
              "      <td>3026.555238</td>\n",
              "      <td>236.30502</td>\n",
              "      <td>12414.000000</td>\n",
              "    </tr>\n",
              "    <tr>\n",
              "      <th>145</th>\n",
              "      <td>10/1/2012</td>\n",
              "      <td>3001.655806</td>\n",
              "      <td>245.87276</td>\n",
              "      <td>12142.333330</td>\n",
              "    </tr>\n",
              "    <tr>\n",
              "      <th>146</th>\n",
              "      <td>1/1/2013</td>\n",
              "      <td>3176.376167</td>\n",
              "      <td>288.34445</td>\n",
              "      <td>12036.666670</td>\n",
              "    </tr>\n",
              "    <tr>\n",
              "      <th>147</th>\n",
              "      <td>4/1/2013</td>\n",
              "      <td>3368.012969</td>\n",
              "      <td>293.11449</td>\n",
              "      <td>11721.666670</td>\n",
              "    </tr>\n",
              "    <tr>\n",
              "      <th>148</th>\n",
              "      <td>7/1/2013</td>\n",
              "      <td>3640.895469</td>\n",
              "      <td>399.78650</td>\n",
              "      <td>11294.666670</td>\n",
              "    </tr>\n",
              "    <tr>\n",
              "      <th>149</th>\n",
              "      <td>10/1/2013</td>\n",
              "      <td>3957.076250</td>\n",
              "      <td>412.82058</td>\n",
              "      <td>10775.666670</td>\n",
              "    </tr>\n",
              "    <tr>\n",
              "      <th>150</th>\n",
              "      <td>1/1/2014</td>\n",
              "      <td>4210.404754</td>\n",
              "      <td>408.33191</td>\n",
              "      <td>10310.333330</td>\n",
              "    </tr>\n",
              "    <tr>\n",
              "      <th>151</th>\n",
              "      <td>4/1/2014</td>\n",
              "      <td>4195.806349</td>\n",
              "      <td>376.01129</td>\n",
              "      <td>9673.666667</td>\n",
              "    </tr>\n",
              "    <tr>\n",
              "      <th>152</th>\n",
              "      <td>7/1/2014</td>\n",
              "      <td>4482.742813</td>\n",
              "      <td>338.96450</td>\n",
              "      <td>9489.666667</td>\n",
              "    </tr>\n",
              "    <tr>\n",
              "      <th>153</th>\n",
              "      <td>10/1/2014</td>\n",
              "      <td>4600.938594</td>\n",
              "      <td>297.08756</td>\n",
              "      <td>8932.333333</td>\n",
              "    </tr>\n",
              "    <tr>\n",
              "      <th>154</th>\n",
              "      <td>1/1/2015</td>\n",
              "      <td>4825.264426</td>\n",
              "      <td>233.02051</td>\n",
              "      <td>8672.333333</td>\n",
              "    </tr>\n",
              "    <tr>\n",
              "      <th>155</th>\n",
              "      <td>4/1/2015</td>\n",
              "      <td>5030.167143</td>\n",
              "      <td>265.03870</td>\n",
              "      <td>8529.666667</td>\n",
              "    </tr>\n",
              "    <tr>\n",
              "      <th>156</th>\n",
              "      <td>7/1/2015</td>\n",
              "      <td>4924.328125</td>\n",
              "      <td>261.43582</td>\n",
              "      <td>8025.333333</td>\n",
              "    </tr>\n",
              "    <tr>\n",
              "      <th>157</th>\n",
              "      <td>10/1/2015</td>\n",
              "      <td>4998.138125</td>\n",
              "      <td>230.97015</td>\n",
              "      <td>7943.000000</td>\n",
              "    </tr>\n",
              "    <tr>\n",
              "      <th>158</th>\n",
              "      <td>1/1/2016</td>\n",
              "      <td>4614.200656</td>\n",
              "      <td>184.13157</td>\n",
              "      <td>7817.333333</td>\n",
              "    </tr>\n",
              "    <tr>\n",
              "      <th>159</th>\n",
              "      <td>4/1/2016</td>\n",
              "      <td>4845.712188</td>\n",
              "      <td>167.20043</td>\n",
              "      <td>7783.000000</td>\n",
              "    </tr>\n",
              "    <tr>\n",
              "      <th>160</th>\n",
              "      <td>7/1/2016</td>\n",
              "      <td>5168.889063</td>\n",
              "      <td>142.83427</td>\n",
              "      <td>7816.666667</td>\n",
              "    </tr>\n",
              "    <tr>\n",
              "      <th>161</th>\n",
              "      <td>10/1/2016</td>\n",
              "      <td>5309.890317</td>\n",
              "      <td>192.86774</td>\n",
              "      <td>7600.666667</td>\n",
              "    </tr>\n",
              "    <tr>\n",
              "      <th>162</th>\n",
              "      <td>1/1/2017</td>\n",
              "      <td>5736.322258</td>\n",
              "      <td>205.34966</td>\n",
              "      <td>7360.000000</td>\n",
              "    </tr>\n",
              "    <tr>\n",
              "      <th>163</th>\n",
              "      <td>4/1/2017</td>\n",
              "      <td>6095.441746</td>\n",
              "      <td>164.54052</td>\n",
              "      <td>6986.000000</td>\n",
              "    </tr>\n",
              "    <tr>\n",
              "      <th>164</th>\n",
              "      <td>7/1/2017</td>\n",
              "      <td>6343.130159</td>\n",
              "      <td>150.09002</td>\n",
              "      <td>6944.333333</td>\n",
              "    </tr>\n",
              "    <tr>\n",
              "      <th>165</th>\n",
              "      <td>10/1/2017</td>\n",
              "      <td>6758.381111</td>\n",
              "      <td>115.65037</td>\n",
              "      <td>6614.000000</td>\n",
              "    </tr>\n",
              "    <tr>\n",
              "      <th>166</th>\n",
              "      <td>1/1/2018</td>\n",
              "      <td>7253.848525</td>\n",
              "      <td>102.14598</td>\n",
              "      <td>6604.666667</td>\n",
              "    </tr>\n",
              "    <tr>\n",
              "      <th>167</th>\n",
              "      <td>4/1/2018</td>\n",
              "      <td>7355.938859</td>\n",
              "      <td>75.76728</td>\n",
              "      <td>6333.333333</td>\n",
              "    </tr>\n",
              "    <tr>\n",
              "      <th>168</th>\n",
              "      <td>7/1/2018</td>\n",
              "      <td>7874.576365</td>\n",
              "      <td>44.05641</td>\n",
              "      <td>6142.666667</td>\n",
              "    </tr>\n",
              "    <tr>\n",
              "      <th>169</th>\n",
              "      <td>10/1/2018</td>\n",
              "      <td>7215.114587</td>\n",
              "      <td>40.71279</td>\n",
              "      <td>6141.333333</td>\n",
              "    </tr>\n",
              "    <tr>\n",
              "      <th>170</th>\n",
              "      <td>1/1/2019</td>\n",
              "      <td>7343.621459</td>\n",
              "      <td>28.67256</td>\n",
              "      <td>6327.000000</td>\n",
              "    </tr>\n",
              "    <tr>\n",
              "      <th>171</th>\n",
              "      <td>4/1/2019</td>\n",
              "      <td>7876.666359</td>\n",
              "      <td>36.03136</td>\n",
              "      <td>5895.666667</td>\n",
              "    </tr>\n",
              "  </tbody>\n",
              "</table>\n",
              "<p>172 rows × 4 columns</p>\n",
              "</div>"
            ],
            "text/plain": [
              "          DATE       NASDAQ      YIELD      UNEMPLOY\n",
              "0     7/1/1976    91.235625  187.83026   7462.666667\n",
              "1    10/1/1976    91.274127  250.63286   7531.666667\n",
              "2     1/1/1977    96.217460  227.54796   7343.333333\n",
              "3     4/1/1977    96.650317  213.20591   7034.666667\n",
              "4     7/1/1977   100.756191  139.16403   6835.000000\n",
              "5    10/1/1977   101.216508   77.68704   6654.666667\n",
              "6     1/1/1978   102.436452   79.66154   6381.333333\n",
              "7     4/1/1978   117.489531   54.87395   6111.666667\n",
              "8     7/1/1978   130.087143    2.84672   6171.333333\n",
              "9    10/1/1978   119.848413  -86.82968   6084.000000\n",
              "10    1/1/1979   125.492064 -117.49615   6130.333333\n",
              "11    4/1/1979   133.444603  -81.35196   5956.000000\n",
              "12    7/1/1979   144.743333  -74.61122   6168.666667\n",
              "13   10/1/1979   142.523750 -191.04770   6286.333333\n",
              "14    1/1/1980   152.525238 -218.27010   6704.666667\n",
              "15    4/1/1980   145.800159   42.86350   7813.333333\n",
              "16    7/1/1980   177.873125  100.00000   8221.666667\n",
              "17   10/1/1980   198.087937 -136.16664   7943.000000\n",
              "18    1/1/1981   199.296935 -105.19804   8034.666667\n",
              "19    4/1/1981   217.290159 -162.12759   8047.000000\n",
              "20    7/1/1981   200.716094 -202.08167   8043.000000\n",
              "21   10/1/1981   195.410937   29.28857   8980.666667\n",
              "22    1/1/1982   180.790968  -40.04078   9665.666667\n",
              "23    4/1/1982   179.309841  -37.08872  10372.333330\n",
              "24    7/1/1982   173.929688   82.43928  10982.333330\n",
              "25   10/1/1982   221.471094  134.48661  11839.333330\n",
              "26    1/1/1983   254.992857  173.40603  11495.666670\n",
              "27    4/1/1983   301.070476  135.61241  11222.666670\n",
              "28    7/1/1983   304.027344  132.95970  10484.333330\n",
              "29   10/1/1983   281.348413  170.06316   9572.333333\n",
              "..         ...          ...        ...           ...\n",
              "142   1/1/2012  2907.188065  298.98844  12774.333330\n",
              "143   4/1/2012  2926.483810  262.39658  12666.000000\n",
              "144   7/1/2012  3026.555238  236.30502  12414.000000\n",
              "145  10/1/2012  3001.655806  245.87276  12142.333330\n",
              "146   1/1/2013  3176.376167  288.34445  12036.666670\n",
              "147   4/1/2013  3368.012969  293.11449  11721.666670\n",
              "148   7/1/2013  3640.895469  399.78650  11294.666670\n",
              "149  10/1/2013  3957.076250  412.82058  10775.666670\n",
              "150   1/1/2014  4210.404754  408.33191  10310.333330\n",
              "151   4/1/2014  4195.806349  376.01129   9673.666667\n",
              "152   7/1/2014  4482.742813  338.96450   9489.666667\n",
              "153  10/1/2014  4600.938594  297.08756   8932.333333\n",
              "154   1/1/2015  4825.264426  233.02051   8672.333333\n",
              "155   4/1/2015  5030.167143  265.03870   8529.666667\n",
              "156   7/1/2015  4924.328125  261.43582   8025.333333\n",
              "157  10/1/2015  4998.138125  230.97015   7943.000000\n",
              "158   1/1/2016  4614.200656  184.13157   7817.333333\n",
              "159   4/1/2016  4845.712188  167.20043   7783.000000\n",
              "160   7/1/2016  5168.889063  142.83427   7816.666667\n",
              "161  10/1/2016  5309.890317  192.86774   7600.666667\n",
              "162   1/1/2017  5736.322258  205.34966   7360.000000\n",
              "163   4/1/2017  6095.441746  164.54052   6986.000000\n",
              "164   7/1/2017  6343.130159  150.09002   6944.333333\n",
              "165  10/1/2017  6758.381111  115.65037   6614.000000\n",
              "166   1/1/2018  7253.848525  102.14598   6604.666667\n",
              "167   4/1/2018  7355.938859   75.76728   6333.333333\n",
              "168   7/1/2018  7874.576365   44.05641   6142.666667\n",
              "169  10/1/2018  7215.114587   40.71279   6141.333333\n",
              "170   1/1/2019  7343.621459   28.67256   6327.000000\n",
              "171   4/1/2019  7876.666359   36.03136   5895.666667\n",
              "\n",
              "[172 rows x 4 columns]"
            ]
          },
          "metadata": {
            "tags": []
          },
          "execution_count": 197
        }
      ]
    },
    {
      "cell_type": "markdown",
      "metadata": {
        "id": "43EObHNBgseA",
        "colab_type": "text"
      },
      "source": [
        "**Code to read the GDP factor dataset csv file and print the first few records**"
      ]
    },
    {
      "cell_type": "code",
      "metadata": {
        "id": "NYldjDBxg14S",
        "colab_type": "code",
        "colab": {
          "base_uri": "https://localhost:8080/",
          "height": 202
        },
        "outputId": "cdc95f88-771b-4132-d6a2-336ed5d354db"
      },
      "source": [
        "data_gdp_records = pd.read_csv(\"/content/drive/My Drive/DataSets/gdp-data.csv\", sep=',', usecols=['GDP'])\n",
        "data_gdp_records.head()"
      ],
      "execution_count": 198,
      "outputs": [
        {
          "output_type": "execute_result",
          "data": {
            "text/html": [
              "<div>\n",
              "<style scoped>\n",
              "    .dataframe tbody tr th:only-of-type {\n",
              "        vertical-align: middle;\n",
              "    }\n",
              "\n",
              "    .dataframe tbody tr th {\n",
              "        vertical-align: top;\n",
              "    }\n",
              "\n",
              "    .dataframe thead th {\n",
              "        text-align: right;\n",
              "    }\n",
              "</style>\n",
              "<table border=\"1\" class=\"dataframe\">\n",
              "  <thead>\n",
              "    <tr style=\"text-align: right;\">\n",
              "      <th></th>\n",
              "      <th>GDP</th>\n",
              "    </tr>\n",
              "  </thead>\n",
              "  <tbody>\n",
              "    <tr>\n",
              "      <th>0</th>\n",
              "      <td>5965.265</td>\n",
              "    </tr>\n",
              "    <tr>\n",
              "      <th>1</th>\n",
              "      <td>6008.504</td>\n",
              "    </tr>\n",
              "    <tr>\n",
              "      <th>2</th>\n",
              "      <td>6079.494</td>\n",
              "    </tr>\n",
              "    <tr>\n",
              "      <th>3</th>\n",
              "      <td>6197.686</td>\n",
              "    </tr>\n",
              "    <tr>\n",
              "      <th>4</th>\n",
              "      <td>6309.514</td>\n",
              "    </tr>\n",
              "  </tbody>\n",
              "</table>\n",
              "</div>"
            ],
            "text/plain": [
              "        GDP\n",
              "0  5965.265\n",
              "1  6008.504\n",
              "2  6079.494\n",
              "3  6197.686\n",
              "4  6309.514"
            ]
          },
          "metadata": {
            "tags": []
          },
          "execution_count": 198
        }
      ]
    },
    {
      "cell_type": "markdown",
      "metadata": {
        "id": "UkgrzAE2hOYE",
        "colab_type": "text"
      },
      "source": [
        "**Print entire records from GDP dataset**"
      ]
    },
    {
      "cell_type": "code",
      "metadata": {
        "id": "VPAre7h3hPOZ",
        "colab_type": "code",
        "colab": {
          "base_uri": "https://localhost:8080/",
          "height": 1000
        },
        "outputId": "df5c328f-ea30-4415-a111-e08f58f979d4"
      },
      "source": [
        "data_gdp_records"
      ],
      "execution_count": 199,
      "outputs": [
        {
          "output_type": "execute_result",
          "data": {
            "text/html": [
              "<div>\n",
              "<style scoped>\n",
              "    .dataframe tbody tr th:only-of-type {\n",
              "        vertical-align: middle;\n",
              "    }\n",
              "\n",
              "    .dataframe tbody tr th {\n",
              "        vertical-align: top;\n",
              "    }\n",
              "\n",
              "    .dataframe thead th {\n",
              "        text-align: right;\n",
              "    }\n",
              "</style>\n",
              "<table border=\"1\" class=\"dataframe\">\n",
              "  <thead>\n",
              "    <tr style=\"text-align: right;\">\n",
              "      <th></th>\n",
              "      <th>GDP</th>\n",
              "    </tr>\n",
              "  </thead>\n",
              "  <tbody>\n",
              "    <tr>\n",
              "      <th>0</th>\n",
              "      <td>5965.265</td>\n",
              "    </tr>\n",
              "    <tr>\n",
              "      <th>1</th>\n",
              "      <td>6008.504</td>\n",
              "    </tr>\n",
              "    <tr>\n",
              "      <th>2</th>\n",
              "      <td>6079.494</td>\n",
              "    </tr>\n",
              "    <tr>\n",
              "      <th>3</th>\n",
              "      <td>6197.686</td>\n",
              "    </tr>\n",
              "    <tr>\n",
              "      <th>4</th>\n",
              "      <td>6309.514</td>\n",
              "    </tr>\n",
              "    <tr>\n",
              "      <th>5</th>\n",
              "      <td>6309.652</td>\n",
              "    </tr>\n",
              "    <tr>\n",
              "      <th>6</th>\n",
              "      <td>6329.791</td>\n",
              "    </tr>\n",
              "    <tr>\n",
              "      <th>7</th>\n",
              "      <td>6574.390</td>\n",
              "    </tr>\n",
              "    <tr>\n",
              "      <th>8</th>\n",
              "      <td>6640.497</td>\n",
              "    </tr>\n",
              "    <tr>\n",
              "      <th>9</th>\n",
              "      <td>6729.755</td>\n",
              "    </tr>\n",
              "    <tr>\n",
              "      <th>10</th>\n",
              "      <td>6741.854</td>\n",
              "    </tr>\n",
              "    <tr>\n",
              "      <th>11</th>\n",
              "      <td>6749.063</td>\n",
              "    </tr>\n",
              "    <tr>\n",
              "      <th>12</th>\n",
              "      <td>6799.200</td>\n",
              "    </tr>\n",
              "    <tr>\n",
              "      <th>13</th>\n",
              "      <td>6816.203</td>\n",
              "    </tr>\n",
              "    <tr>\n",
              "      <th>14</th>\n",
              "      <td>6837.641</td>\n",
              "    </tr>\n",
              "    <tr>\n",
              "      <th>15</th>\n",
              "      <td>6696.753</td>\n",
              "    </tr>\n",
              "    <tr>\n",
              "      <th>16</th>\n",
              "      <td>6688.794</td>\n",
              "    </tr>\n",
              "    <tr>\n",
              "      <th>17</th>\n",
              "      <td>6813.535</td>\n",
              "    </tr>\n",
              "    <tr>\n",
              "      <th>18</th>\n",
              "      <td>6947.042</td>\n",
              "    </tr>\n",
              "    <tr>\n",
              "      <th>19</th>\n",
              "      <td>6895.559</td>\n",
              "    </tr>\n",
              "    <tr>\n",
              "      <th>20</th>\n",
              "      <td>6978.135</td>\n",
              "    </tr>\n",
              "    <tr>\n",
              "      <th>21</th>\n",
              "      <td>6902.105</td>\n",
              "    </tr>\n",
              "    <tr>\n",
              "      <th>22</th>\n",
              "      <td>6794.878</td>\n",
              "    </tr>\n",
              "    <tr>\n",
              "      <th>23</th>\n",
              "      <td>6825.876</td>\n",
              "    </tr>\n",
              "    <tr>\n",
              "      <th>24</th>\n",
              "      <td>6799.781</td>\n",
              "    </tr>\n",
              "    <tr>\n",
              "      <th>25</th>\n",
              "      <td>6802.497</td>\n",
              "    </tr>\n",
              "    <tr>\n",
              "      <th>26</th>\n",
              "      <td>6892.144</td>\n",
              "    </tr>\n",
              "    <tr>\n",
              "      <th>27</th>\n",
              "      <td>7048.982</td>\n",
              "    </tr>\n",
              "    <tr>\n",
              "      <th>28</th>\n",
              "      <td>7189.896</td>\n",
              "    </tr>\n",
              "    <tr>\n",
              "      <th>29</th>\n",
              "      <td>7339.893</td>\n",
              "    </tr>\n",
              "    <tr>\n",
              "      <th>...</th>\n",
              "      <td>...</td>\n",
              "    </tr>\n",
              "    <tr>\n",
              "      <th>142</th>\n",
              "      <td>16129.418</td>\n",
              "    </tr>\n",
              "    <tr>\n",
              "      <th>143</th>\n",
              "      <td>16198.807</td>\n",
              "    </tr>\n",
              "    <tr>\n",
              "      <th>144</th>\n",
              "      <td>16220.667</td>\n",
              "    </tr>\n",
              "    <tr>\n",
              "      <th>145</th>\n",
              "      <td>16239.138</td>\n",
              "    </tr>\n",
              "    <tr>\n",
              "      <th>146</th>\n",
              "      <td>16382.964</td>\n",
              "    </tr>\n",
              "    <tr>\n",
              "      <th>147</th>\n",
              "      <td>16403.180</td>\n",
              "    </tr>\n",
              "    <tr>\n",
              "      <th>148</th>\n",
              "      <td>16531.685</td>\n",
              "    </tr>\n",
              "    <tr>\n",
              "      <th>149</th>\n",
              "      <td>16663.649</td>\n",
              "    </tr>\n",
              "    <tr>\n",
              "      <th>150</th>\n",
              "      <td>16616.540</td>\n",
              "    </tr>\n",
              "    <tr>\n",
              "      <th>151</th>\n",
              "      <td>16841.475</td>\n",
              "    </tr>\n",
              "    <tr>\n",
              "      <th>152</th>\n",
              "      <td>17047.098</td>\n",
              "    </tr>\n",
              "    <tr>\n",
              "      <th>153</th>\n",
              "      <td>17143.038</td>\n",
              "    </tr>\n",
              "    <tr>\n",
              "      <th>154</th>\n",
              "      <td>17277.580</td>\n",
              "    </tr>\n",
              "    <tr>\n",
              "      <th>155</th>\n",
              "      <td>17405.669</td>\n",
              "    </tr>\n",
              "    <tr>\n",
              "      <th>156</th>\n",
              "      <td>17463.222</td>\n",
              "    </tr>\n",
              "    <tr>\n",
              "      <th>157</th>\n",
              "      <td>17468.902</td>\n",
              "    </tr>\n",
              "    <tr>\n",
              "      <th>158</th>\n",
              "      <td>17556.839</td>\n",
              "    </tr>\n",
              "    <tr>\n",
              "      <th>159</th>\n",
              "      <td>17639.417</td>\n",
              "    </tr>\n",
              "    <tr>\n",
              "      <th>160</th>\n",
              "      <td>17735.074</td>\n",
              "    </tr>\n",
              "    <tr>\n",
              "      <th>161</th>\n",
              "      <td>17824.231</td>\n",
              "    </tr>\n",
              "    <tr>\n",
              "      <th>162</th>\n",
              "      <td>17925.256</td>\n",
              "    </tr>\n",
              "    <tr>\n",
              "      <th>163</th>\n",
              "      <td>18021.048</td>\n",
              "    </tr>\n",
              "    <tr>\n",
              "      <th>164</th>\n",
              "      <td>18163.558</td>\n",
              "    </tr>\n",
              "    <tr>\n",
              "      <th>165</th>\n",
              "      <td>18322.464</td>\n",
              "    </tr>\n",
              "    <tr>\n",
              "      <th>166</th>\n",
              "      <td>18438.254</td>\n",
              "    </tr>\n",
              "    <tr>\n",
              "      <th>167</th>\n",
              "      <td>18598.135</td>\n",
              "    </tr>\n",
              "    <tr>\n",
              "      <th>168</th>\n",
              "      <td>18732.720</td>\n",
              "    </tr>\n",
              "    <tr>\n",
              "      <th>169</th>\n",
              "      <td>18783.548</td>\n",
              "    </tr>\n",
              "    <tr>\n",
              "      <th>170</th>\n",
              "      <td>18927.281</td>\n",
              "    </tr>\n",
              "    <tr>\n",
              "      <th>171</th>\n",
              "      <td>19023.022</td>\n",
              "    </tr>\n",
              "  </tbody>\n",
              "</table>\n",
              "<p>172 rows × 1 columns</p>\n",
              "</div>"
            ],
            "text/plain": [
              "           GDP\n",
              "0     5965.265\n",
              "1     6008.504\n",
              "2     6079.494\n",
              "3     6197.686\n",
              "4     6309.514\n",
              "5     6309.652\n",
              "6     6329.791\n",
              "7     6574.390\n",
              "8     6640.497\n",
              "9     6729.755\n",
              "10    6741.854\n",
              "11    6749.063\n",
              "12    6799.200\n",
              "13    6816.203\n",
              "14    6837.641\n",
              "15    6696.753\n",
              "16    6688.794\n",
              "17    6813.535\n",
              "18    6947.042\n",
              "19    6895.559\n",
              "20    6978.135\n",
              "21    6902.105\n",
              "22    6794.878\n",
              "23    6825.876\n",
              "24    6799.781\n",
              "25    6802.497\n",
              "26    6892.144\n",
              "27    7048.982\n",
              "28    7189.896\n",
              "29    7339.893\n",
              "..         ...\n",
              "142  16129.418\n",
              "143  16198.807\n",
              "144  16220.667\n",
              "145  16239.138\n",
              "146  16382.964\n",
              "147  16403.180\n",
              "148  16531.685\n",
              "149  16663.649\n",
              "150  16616.540\n",
              "151  16841.475\n",
              "152  17047.098\n",
              "153  17143.038\n",
              "154  17277.580\n",
              "155  17405.669\n",
              "156  17463.222\n",
              "157  17468.902\n",
              "158  17556.839\n",
              "159  17639.417\n",
              "160  17735.074\n",
              "161  17824.231\n",
              "162  17925.256\n",
              "163  18021.048\n",
              "164  18163.558\n",
              "165  18322.464\n",
              "166  18438.254\n",
              "167  18598.135\n",
              "168  18732.720\n",
              "169  18783.548\n",
              "170  18927.281\n",
              "171  19023.022\n",
              "\n",
              "[172 rows x 1 columns]"
            ]
          },
          "metadata": {
            "tags": []
          },
          "execution_count": 199
        }
      ]
    },
    {
      "cell_type": "markdown",
      "metadata": {
        "id": "alV3FybHsiy1",
        "colab_type": "text"
      },
      "source": [
        "**Data Preparation step:**\n",
        "\n",
        "\n",
        "Pre-process the data in recession dataset in order to fill any missing or incomplete records"
      ]
    },
    {
      "cell_type": "markdown",
      "metadata": {
        "id": "V2aixeuGR0m8",
        "colab_type": "text"
      },
      "source": [
        "**Step 1:** Calculate the median of 'UNEMPLOY' attribute - using math module to round the decimal value of median\n",
        "\n",
        "**Latent Manifold**:\n",
        "\n",
        "\n",
        "Based on the  values as shown above in each column, the three important features are Yield, Unemployment and Nasdaq. So, our latent variable (GDP) is a resultant variable which is derived from some combination of these features.\n"
      ]
    },
    {
      "cell_type": "code",
      "metadata": {
        "id": "Wvbg_0MytRVO",
        "colab_type": "code",
        "outputId": "73c7dc23-6c8b-41a8-c12c-1c06108aefa5",
        "colab": {
          "base_uri": "https://localhost:8080/",
          "height": 35
        }
      },
      "source": [
        "import math\n",
        "median_unemploy = math.floor(data_records.UNEMPLOY.median())\n",
        "median_unemploy"
      ],
      "execution_count": 200,
      "outputs": [
        {
          "output_type": "execute_result",
          "data": {
            "text/plain": [
              "7852"
            ]
          },
          "metadata": {
            "tags": []
          },
          "execution_count": 200
        }
      ]
    },
    {
      "cell_type": "markdown",
      "metadata": {
        "id": "B7f08wxcSdnW",
        "colab_type": "text"
      },
      "source": [
        "**Step 2:** Fill all the NA values with the median of 'UNEMPLOY' attribute"
      ]
    },
    {
      "cell_type": "code",
      "metadata": {
        "id": "Ymd99hFFSkOi",
        "colab_type": "code",
        "colab": {
          "base_uri": "https://localhost:8080/",
          "height": 1000
        },
        "outputId": "060c4116-6e10-4cb9-aabf-6743e4b4e050"
      },
      "source": [
        "data_records.UNEMPLOY.fillna(median_unemploy)"
      ],
      "execution_count": 201,
      "outputs": [
        {
          "output_type": "execute_result",
          "data": {
            "text/plain": [
              "0       7462.666667\n",
              "1       7531.666667\n",
              "2       7343.333333\n",
              "3       7034.666667\n",
              "4       6835.000000\n",
              "5       6654.666667\n",
              "6       6381.333333\n",
              "7       6111.666667\n",
              "8       6171.333333\n",
              "9       6084.000000\n",
              "10      6130.333333\n",
              "11      5956.000000\n",
              "12      6168.666667\n",
              "13      6286.333333\n",
              "14      6704.666667\n",
              "15      7813.333333\n",
              "16      8221.666667\n",
              "17      7943.000000\n",
              "18      8034.666667\n",
              "19      8047.000000\n",
              "20      8043.000000\n",
              "21      8980.666667\n",
              "22      9665.666667\n",
              "23     10372.333330\n",
              "24     10982.333330\n",
              "25     11839.333330\n",
              "26     11495.666670\n",
              "27     11222.666670\n",
              "28     10484.333330\n",
              "29      9572.333333\n",
              "           ...     \n",
              "142    12774.333330\n",
              "143    12666.000000\n",
              "144    12414.000000\n",
              "145    12142.333330\n",
              "146    12036.666670\n",
              "147    11721.666670\n",
              "148    11294.666670\n",
              "149    10775.666670\n",
              "150    10310.333330\n",
              "151     9673.666667\n",
              "152     9489.666667\n",
              "153     8932.333333\n",
              "154     8672.333333\n",
              "155     8529.666667\n",
              "156     8025.333333\n",
              "157     7943.000000\n",
              "158     7817.333333\n",
              "159     7783.000000\n",
              "160     7816.666667\n",
              "161     7600.666667\n",
              "162     7360.000000\n",
              "163     6986.000000\n",
              "164     6944.333333\n",
              "165     6614.000000\n",
              "166     6604.666667\n",
              "167     6333.333333\n",
              "168     6142.666667\n",
              "169     6141.333333\n",
              "170     6327.000000\n",
              "171     5895.666667\n",
              "Name: UNEMPLOY, Length: 172, dtype: float64"
            ]
          },
          "metadata": {
            "tags": []
          },
          "execution_count": 201
        }
      ]
    },
    {
      "cell_type": "markdown",
      "metadata": {
        "id": "mq9SdEy6TtmG",
        "colab_type": "text"
      },
      "source": [
        "**Step 3:** Assign the new value (in place of empty cell) to the original dataset"
      ]
    },
    {
      "cell_type": "code",
      "metadata": {
        "id": "N8-yWPtGT3jW",
        "colab_type": "code",
        "colab": {
          "base_uri": "https://localhost:8080/",
          "height": 1000
        },
        "outputId": "20f4fa40-0dc4-4e2b-fdfa-d2f4fc574709"
      },
      "source": [
        "data_records.UNEMPLOY = data_records.UNEMPLOY.fillna(median_unemploy)\n",
        "data_records     #Print the dataset with updated value"
      ],
      "execution_count": 202,
      "outputs": [
        {
          "output_type": "execute_result",
          "data": {
            "text/html": [
              "<div>\n",
              "<style scoped>\n",
              "    .dataframe tbody tr th:only-of-type {\n",
              "        vertical-align: middle;\n",
              "    }\n",
              "\n",
              "    .dataframe tbody tr th {\n",
              "        vertical-align: top;\n",
              "    }\n",
              "\n",
              "    .dataframe thead th {\n",
              "        text-align: right;\n",
              "    }\n",
              "</style>\n",
              "<table border=\"1\" class=\"dataframe\">\n",
              "  <thead>\n",
              "    <tr style=\"text-align: right;\">\n",
              "      <th></th>\n",
              "      <th>DATE</th>\n",
              "      <th>NASDAQ</th>\n",
              "      <th>YIELD</th>\n",
              "      <th>UNEMPLOY</th>\n",
              "    </tr>\n",
              "  </thead>\n",
              "  <tbody>\n",
              "    <tr>\n",
              "      <th>0</th>\n",
              "      <td>7/1/1976</td>\n",
              "      <td>91.235625</td>\n",
              "      <td>187.83026</td>\n",
              "      <td>7462.666667</td>\n",
              "    </tr>\n",
              "    <tr>\n",
              "      <th>1</th>\n",
              "      <td>10/1/1976</td>\n",
              "      <td>91.274127</td>\n",
              "      <td>250.63286</td>\n",
              "      <td>7531.666667</td>\n",
              "    </tr>\n",
              "    <tr>\n",
              "      <th>2</th>\n",
              "      <td>1/1/1977</td>\n",
              "      <td>96.217460</td>\n",
              "      <td>227.54796</td>\n",
              "      <td>7343.333333</td>\n",
              "    </tr>\n",
              "    <tr>\n",
              "      <th>3</th>\n",
              "      <td>4/1/1977</td>\n",
              "      <td>96.650317</td>\n",
              "      <td>213.20591</td>\n",
              "      <td>7034.666667</td>\n",
              "    </tr>\n",
              "    <tr>\n",
              "      <th>4</th>\n",
              "      <td>7/1/1977</td>\n",
              "      <td>100.756191</td>\n",
              "      <td>139.16403</td>\n",
              "      <td>6835.000000</td>\n",
              "    </tr>\n",
              "    <tr>\n",
              "      <th>5</th>\n",
              "      <td>10/1/1977</td>\n",
              "      <td>101.216508</td>\n",
              "      <td>77.68704</td>\n",
              "      <td>6654.666667</td>\n",
              "    </tr>\n",
              "    <tr>\n",
              "      <th>6</th>\n",
              "      <td>1/1/1978</td>\n",
              "      <td>102.436452</td>\n",
              "      <td>79.66154</td>\n",
              "      <td>6381.333333</td>\n",
              "    </tr>\n",
              "    <tr>\n",
              "      <th>7</th>\n",
              "      <td>4/1/1978</td>\n",
              "      <td>117.489531</td>\n",
              "      <td>54.87395</td>\n",
              "      <td>6111.666667</td>\n",
              "    </tr>\n",
              "    <tr>\n",
              "      <th>8</th>\n",
              "      <td>7/1/1978</td>\n",
              "      <td>130.087143</td>\n",
              "      <td>2.84672</td>\n",
              "      <td>6171.333333</td>\n",
              "    </tr>\n",
              "    <tr>\n",
              "      <th>9</th>\n",
              "      <td>10/1/1978</td>\n",
              "      <td>119.848413</td>\n",
              "      <td>-86.82968</td>\n",
              "      <td>6084.000000</td>\n",
              "    </tr>\n",
              "    <tr>\n",
              "      <th>10</th>\n",
              "      <td>1/1/1979</td>\n",
              "      <td>125.492064</td>\n",
              "      <td>-117.49615</td>\n",
              "      <td>6130.333333</td>\n",
              "    </tr>\n",
              "    <tr>\n",
              "      <th>11</th>\n",
              "      <td>4/1/1979</td>\n",
              "      <td>133.444603</td>\n",
              "      <td>-81.35196</td>\n",
              "      <td>5956.000000</td>\n",
              "    </tr>\n",
              "    <tr>\n",
              "      <th>12</th>\n",
              "      <td>7/1/1979</td>\n",
              "      <td>144.743333</td>\n",
              "      <td>-74.61122</td>\n",
              "      <td>6168.666667</td>\n",
              "    </tr>\n",
              "    <tr>\n",
              "      <th>13</th>\n",
              "      <td>10/1/1979</td>\n",
              "      <td>142.523750</td>\n",
              "      <td>-191.04770</td>\n",
              "      <td>6286.333333</td>\n",
              "    </tr>\n",
              "    <tr>\n",
              "      <th>14</th>\n",
              "      <td>1/1/1980</td>\n",
              "      <td>152.525238</td>\n",
              "      <td>-218.27010</td>\n",
              "      <td>6704.666667</td>\n",
              "    </tr>\n",
              "    <tr>\n",
              "      <th>15</th>\n",
              "      <td>4/1/1980</td>\n",
              "      <td>145.800159</td>\n",
              "      <td>42.86350</td>\n",
              "      <td>7813.333333</td>\n",
              "    </tr>\n",
              "    <tr>\n",
              "      <th>16</th>\n",
              "      <td>7/1/1980</td>\n",
              "      <td>177.873125</td>\n",
              "      <td>100.00000</td>\n",
              "      <td>8221.666667</td>\n",
              "    </tr>\n",
              "    <tr>\n",
              "      <th>17</th>\n",
              "      <td>10/1/1980</td>\n",
              "      <td>198.087937</td>\n",
              "      <td>-136.16664</td>\n",
              "      <td>7943.000000</td>\n",
              "    </tr>\n",
              "    <tr>\n",
              "      <th>18</th>\n",
              "      <td>1/1/1981</td>\n",
              "      <td>199.296935</td>\n",
              "      <td>-105.19804</td>\n",
              "      <td>8034.666667</td>\n",
              "    </tr>\n",
              "    <tr>\n",
              "      <th>19</th>\n",
              "      <td>4/1/1981</td>\n",
              "      <td>217.290159</td>\n",
              "      <td>-162.12759</td>\n",
              "      <td>8047.000000</td>\n",
              "    </tr>\n",
              "    <tr>\n",
              "      <th>20</th>\n",
              "      <td>7/1/1981</td>\n",
              "      <td>200.716094</td>\n",
              "      <td>-202.08167</td>\n",
              "      <td>8043.000000</td>\n",
              "    </tr>\n",
              "    <tr>\n",
              "      <th>21</th>\n",
              "      <td>10/1/1981</td>\n",
              "      <td>195.410937</td>\n",
              "      <td>29.28857</td>\n",
              "      <td>8980.666667</td>\n",
              "    </tr>\n",
              "    <tr>\n",
              "      <th>22</th>\n",
              "      <td>1/1/1982</td>\n",
              "      <td>180.790968</td>\n",
              "      <td>-40.04078</td>\n",
              "      <td>9665.666667</td>\n",
              "    </tr>\n",
              "    <tr>\n",
              "      <th>23</th>\n",
              "      <td>4/1/1982</td>\n",
              "      <td>179.309841</td>\n",
              "      <td>-37.08872</td>\n",
              "      <td>10372.333330</td>\n",
              "    </tr>\n",
              "    <tr>\n",
              "      <th>24</th>\n",
              "      <td>7/1/1982</td>\n",
              "      <td>173.929688</td>\n",
              "      <td>82.43928</td>\n",
              "      <td>10982.333330</td>\n",
              "    </tr>\n",
              "    <tr>\n",
              "      <th>25</th>\n",
              "      <td>10/1/1982</td>\n",
              "      <td>221.471094</td>\n",
              "      <td>134.48661</td>\n",
              "      <td>11839.333330</td>\n",
              "    </tr>\n",
              "    <tr>\n",
              "      <th>26</th>\n",
              "      <td>1/1/1983</td>\n",
              "      <td>254.992857</td>\n",
              "      <td>173.40603</td>\n",
              "      <td>11495.666670</td>\n",
              "    </tr>\n",
              "    <tr>\n",
              "      <th>27</th>\n",
              "      <td>4/1/1983</td>\n",
              "      <td>301.070476</td>\n",
              "      <td>135.61241</td>\n",
              "      <td>11222.666670</td>\n",
              "    </tr>\n",
              "    <tr>\n",
              "      <th>28</th>\n",
              "      <td>7/1/1983</td>\n",
              "      <td>304.027344</td>\n",
              "      <td>132.95970</td>\n",
              "      <td>10484.333330</td>\n",
              "    </tr>\n",
              "    <tr>\n",
              "      <th>29</th>\n",
              "      <td>10/1/1983</td>\n",
              "      <td>281.348413</td>\n",
              "      <td>170.06316</td>\n",
              "      <td>9572.333333</td>\n",
              "    </tr>\n",
              "    <tr>\n",
              "      <th>...</th>\n",
              "      <td>...</td>\n",
              "      <td>...</td>\n",
              "      <td>...</td>\n",
              "      <td>...</td>\n",
              "    </tr>\n",
              "    <tr>\n",
              "      <th>142</th>\n",
              "      <td>1/1/2012</td>\n",
              "      <td>2907.188065</td>\n",
              "      <td>298.98844</td>\n",
              "      <td>12774.333330</td>\n",
              "    </tr>\n",
              "    <tr>\n",
              "      <th>143</th>\n",
              "      <td>4/1/2012</td>\n",
              "      <td>2926.483810</td>\n",
              "      <td>262.39658</td>\n",
              "      <td>12666.000000</td>\n",
              "    </tr>\n",
              "    <tr>\n",
              "      <th>144</th>\n",
              "      <td>7/1/2012</td>\n",
              "      <td>3026.555238</td>\n",
              "      <td>236.30502</td>\n",
              "      <td>12414.000000</td>\n",
              "    </tr>\n",
              "    <tr>\n",
              "      <th>145</th>\n",
              "      <td>10/1/2012</td>\n",
              "      <td>3001.655806</td>\n",
              "      <td>245.87276</td>\n",
              "      <td>12142.333330</td>\n",
              "    </tr>\n",
              "    <tr>\n",
              "      <th>146</th>\n",
              "      <td>1/1/2013</td>\n",
              "      <td>3176.376167</td>\n",
              "      <td>288.34445</td>\n",
              "      <td>12036.666670</td>\n",
              "    </tr>\n",
              "    <tr>\n",
              "      <th>147</th>\n",
              "      <td>4/1/2013</td>\n",
              "      <td>3368.012969</td>\n",
              "      <td>293.11449</td>\n",
              "      <td>11721.666670</td>\n",
              "    </tr>\n",
              "    <tr>\n",
              "      <th>148</th>\n",
              "      <td>7/1/2013</td>\n",
              "      <td>3640.895469</td>\n",
              "      <td>399.78650</td>\n",
              "      <td>11294.666670</td>\n",
              "    </tr>\n",
              "    <tr>\n",
              "      <th>149</th>\n",
              "      <td>10/1/2013</td>\n",
              "      <td>3957.076250</td>\n",
              "      <td>412.82058</td>\n",
              "      <td>10775.666670</td>\n",
              "    </tr>\n",
              "    <tr>\n",
              "      <th>150</th>\n",
              "      <td>1/1/2014</td>\n",
              "      <td>4210.404754</td>\n",
              "      <td>408.33191</td>\n",
              "      <td>10310.333330</td>\n",
              "    </tr>\n",
              "    <tr>\n",
              "      <th>151</th>\n",
              "      <td>4/1/2014</td>\n",
              "      <td>4195.806349</td>\n",
              "      <td>376.01129</td>\n",
              "      <td>9673.666667</td>\n",
              "    </tr>\n",
              "    <tr>\n",
              "      <th>152</th>\n",
              "      <td>7/1/2014</td>\n",
              "      <td>4482.742813</td>\n",
              "      <td>338.96450</td>\n",
              "      <td>9489.666667</td>\n",
              "    </tr>\n",
              "    <tr>\n",
              "      <th>153</th>\n",
              "      <td>10/1/2014</td>\n",
              "      <td>4600.938594</td>\n",
              "      <td>297.08756</td>\n",
              "      <td>8932.333333</td>\n",
              "    </tr>\n",
              "    <tr>\n",
              "      <th>154</th>\n",
              "      <td>1/1/2015</td>\n",
              "      <td>4825.264426</td>\n",
              "      <td>233.02051</td>\n",
              "      <td>8672.333333</td>\n",
              "    </tr>\n",
              "    <tr>\n",
              "      <th>155</th>\n",
              "      <td>4/1/2015</td>\n",
              "      <td>5030.167143</td>\n",
              "      <td>265.03870</td>\n",
              "      <td>8529.666667</td>\n",
              "    </tr>\n",
              "    <tr>\n",
              "      <th>156</th>\n",
              "      <td>7/1/2015</td>\n",
              "      <td>4924.328125</td>\n",
              "      <td>261.43582</td>\n",
              "      <td>8025.333333</td>\n",
              "    </tr>\n",
              "    <tr>\n",
              "      <th>157</th>\n",
              "      <td>10/1/2015</td>\n",
              "      <td>4998.138125</td>\n",
              "      <td>230.97015</td>\n",
              "      <td>7943.000000</td>\n",
              "    </tr>\n",
              "    <tr>\n",
              "      <th>158</th>\n",
              "      <td>1/1/2016</td>\n",
              "      <td>4614.200656</td>\n",
              "      <td>184.13157</td>\n",
              "      <td>7817.333333</td>\n",
              "    </tr>\n",
              "    <tr>\n",
              "      <th>159</th>\n",
              "      <td>4/1/2016</td>\n",
              "      <td>4845.712188</td>\n",
              "      <td>167.20043</td>\n",
              "      <td>7783.000000</td>\n",
              "    </tr>\n",
              "    <tr>\n",
              "      <th>160</th>\n",
              "      <td>7/1/2016</td>\n",
              "      <td>5168.889063</td>\n",
              "      <td>142.83427</td>\n",
              "      <td>7816.666667</td>\n",
              "    </tr>\n",
              "    <tr>\n",
              "      <th>161</th>\n",
              "      <td>10/1/2016</td>\n",
              "      <td>5309.890317</td>\n",
              "      <td>192.86774</td>\n",
              "      <td>7600.666667</td>\n",
              "    </tr>\n",
              "    <tr>\n",
              "      <th>162</th>\n",
              "      <td>1/1/2017</td>\n",
              "      <td>5736.322258</td>\n",
              "      <td>205.34966</td>\n",
              "      <td>7360.000000</td>\n",
              "    </tr>\n",
              "    <tr>\n",
              "      <th>163</th>\n",
              "      <td>4/1/2017</td>\n",
              "      <td>6095.441746</td>\n",
              "      <td>164.54052</td>\n",
              "      <td>6986.000000</td>\n",
              "    </tr>\n",
              "    <tr>\n",
              "      <th>164</th>\n",
              "      <td>7/1/2017</td>\n",
              "      <td>6343.130159</td>\n",
              "      <td>150.09002</td>\n",
              "      <td>6944.333333</td>\n",
              "    </tr>\n",
              "    <tr>\n",
              "      <th>165</th>\n",
              "      <td>10/1/2017</td>\n",
              "      <td>6758.381111</td>\n",
              "      <td>115.65037</td>\n",
              "      <td>6614.000000</td>\n",
              "    </tr>\n",
              "    <tr>\n",
              "      <th>166</th>\n",
              "      <td>1/1/2018</td>\n",
              "      <td>7253.848525</td>\n",
              "      <td>102.14598</td>\n",
              "      <td>6604.666667</td>\n",
              "    </tr>\n",
              "    <tr>\n",
              "      <th>167</th>\n",
              "      <td>4/1/2018</td>\n",
              "      <td>7355.938859</td>\n",
              "      <td>75.76728</td>\n",
              "      <td>6333.333333</td>\n",
              "    </tr>\n",
              "    <tr>\n",
              "      <th>168</th>\n",
              "      <td>7/1/2018</td>\n",
              "      <td>7874.576365</td>\n",
              "      <td>44.05641</td>\n",
              "      <td>6142.666667</td>\n",
              "    </tr>\n",
              "    <tr>\n",
              "      <th>169</th>\n",
              "      <td>10/1/2018</td>\n",
              "      <td>7215.114587</td>\n",
              "      <td>40.71279</td>\n",
              "      <td>6141.333333</td>\n",
              "    </tr>\n",
              "    <tr>\n",
              "      <th>170</th>\n",
              "      <td>1/1/2019</td>\n",
              "      <td>7343.621459</td>\n",
              "      <td>28.67256</td>\n",
              "      <td>6327.000000</td>\n",
              "    </tr>\n",
              "    <tr>\n",
              "      <th>171</th>\n",
              "      <td>4/1/2019</td>\n",
              "      <td>7876.666359</td>\n",
              "      <td>36.03136</td>\n",
              "      <td>5895.666667</td>\n",
              "    </tr>\n",
              "  </tbody>\n",
              "</table>\n",
              "<p>172 rows × 4 columns</p>\n",
              "</div>"
            ],
            "text/plain": [
              "          DATE       NASDAQ      YIELD      UNEMPLOY\n",
              "0     7/1/1976    91.235625  187.83026   7462.666667\n",
              "1    10/1/1976    91.274127  250.63286   7531.666667\n",
              "2     1/1/1977    96.217460  227.54796   7343.333333\n",
              "3     4/1/1977    96.650317  213.20591   7034.666667\n",
              "4     7/1/1977   100.756191  139.16403   6835.000000\n",
              "5    10/1/1977   101.216508   77.68704   6654.666667\n",
              "6     1/1/1978   102.436452   79.66154   6381.333333\n",
              "7     4/1/1978   117.489531   54.87395   6111.666667\n",
              "8     7/1/1978   130.087143    2.84672   6171.333333\n",
              "9    10/1/1978   119.848413  -86.82968   6084.000000\n",
              "10    1/1/1979   125.492064 -117.49615   6130.333333\n",
              "11    4/1/1979   133.444603  -81.35196   5956.000000\n",
              "12    7/1/1979   144.743333  -74.61122   6168.666667\n",
              "13   10/1/1979   142.523750 -191.04770   6286.333333\n",
              "14    1/1/1980   152.525238 -218.27010   6704.666667\n",
              "15    4/1/1980   145.800159   42.86350   7813.333333\n",
              "16    7/1/1980   177.873125  100.00000   8221.666667\n",
              "17   10/1/1980   198.087937 -136.16664   7943.000000\n",
              "18    1/1/1981   199.296935 -105.19804   8034.666667\n",
              "19    4/1/1981   217.290159 -162.12759   8047.000000\n",
              "20    7/1/1981   200.716094 -202.08167   8043.000000\n",
              "21   10/1/1981   195.410937   29.28857   8980.666667\n",
              "22    1/1/1982   180.790968  -40.04078   9665.666667\n",
              "23    4/1/1982   179.309841  -37.08872  10372.333330\n",
              "24    7/1/1982   173.929688   82.43928  10982.333330\n",
              "25   10/1/1982   221.471094  134.48661  11839.333330\n",
              "26    1/1/1983   254.992857  173.40603  11495.666670\n",
              "27    4/1/1983   301.070476  135.61241  11222.666670\n",
              "28    7/1/1983   304.027344  132.95970  10484.333330\n",
              "29   10/1/1983   281.348413  170.06316   9572.333333\n",
              "..         ...          ...        ...           ...\n",
              "142   1/1/2012  2907.188065  298.98844  12774.333330\n",
              "143   4/1/2012  2926.483810  262.39658  12666.000000\n",
              "144   7/1/2012  3026.555238  236.30502  12414.000000\n",
              "145  10/1/2012  3001.655806  245.87276  12142.333330\n",
              "146   1/1/2013  3176.376167  288.34445  12036.666670\n",
              "147   4/1/2013  3368.012969  293.11449  11721.666670\n",
              "148   7/1/2013  3640.895469  399.78650  11294.666670\n",
              "149  10/1/2013  3957.076250  412.82058  10775.666670\n",
              "150   1/1/2014  4210.404754  408.33191  10310.333330\n",
              "151   4/1/2014  4195.806349  376.01129   9673.666667\n",
              "152   7/1/2014  4482.742813  338.96450   9489.666667\n",
              "153  10/1/2014  4600.938594  297.08756   8932.333333\n",
              "154   1/1/2015  4825.264426  233.02051   8672.333333\n",
              "155   4/1/2015  5030.167143  265.03870   8529.666667\n",
              "156   7/1/2015  4924.328125  261.43582   8025.333333\n",
              "157  10/1/2015  4998.138125  230.97015   7943.000000\n",
              "158   1/1/2016  4614.200656  184.13157   7817.333333\n",
              "159   4/1/2016  4845.712188  167.20043   7783.000000\n",
              "160   7/1/2016  5168.889063  142.83427   7816.666667\n",
              "161  10/1/2016  5309.890317  192.86774   7600.666667\n",
              "162   1/1/2017  5736.322258  205.34966   7360.000000\n",
              "163   4/1/2017  6095.441746  164.54052   6986.000000\n",
              "164   7/1/2017  6343.130159  150.09002   6944.333333\n",
              "165  10/1/2017  6758.381111  115.65037   6614.000000\n",
              "166   1/1/2018  7253.848525  102.14598   6604.666667\n",
              "167   4/1/2018  7355.938859   75.76728   6333.333333\n",
              "168   7/1/2018  7874.576365   44.05641   6142.666667\n",
              "169  10/1/2018  7215.114587   40.71279   6141.333333\n",
              "170   1/1/2019  7343.621459   28.67256   6327.000000\n",
              "171   4/1/2019  7876.666359   36.03136   5895.666667\n",
              "\n",
              "[172 rows x 4 columns]"
            ]
          },
          "metadata": {
            "tags": []
          },
          "execution_count": 202
        }
      ]
    },
    {
      "cell_type": "markdown",
      "metadata": {
        "id": "QNfPk4PpL4Ba",
        "colab_type": "text"
      },
      "source": [
        "**Step 4:** Scale the data"
      ]
    },
    {
      "cell_type": "code",
      "metadata": {
        "id": "CXGIZ0ZuL9k_",
        "colab_type": "code",
        "colab": {}
      },
      "source": [
        "scaler = MinMaxScaler()\n",
        "scaler.fit(data_records.NASDAQ.values.reshape(-1,1))\n",
        "data_records.NASDAQ = scaler.transform(data_records.NASDAQ.values.reshape(-1,1))\n",
        "\n",
        "scaler = MinMaxScaler()\n",
        "scaler.fit(data_records.UNEMPLOY.values.reshape(-1,1))\n",
        "data_records.UNEMPLOY = scaler.transform(data_records.UNEMPLOY.values.reshape(-1,1))\n",
        "\n",
        "scaler = MinMaxScaler()\n",
        "scaler.fit(data_records.YIELD.values.reshape(-1,1))\n",
        "data_records.YIELD = scaler.transform(data_records.YIELD.values.reshape(-1,1))\n"
      ],
      "execution_count": 0,
      "outputs": []
    },
    {
      "cell_type": "markdown",
      "metadata": {
        "id": "Rp0Sy7rkN9A4",
        "colab_type": "text"
      },
      "source": [
        "**Simple plotting of the data** "
      ]
    },
    {
      "cell_type": "code",
      "metadata": {
        "id": "cseCxdyKN_FR",
        "colab_type": "code",
        "outputId": "fce3ae6c-4037-4fe9-fc7c-ff9bc113297f",
        "colab": {
          "base_uri": "https://localhost:8080/",
          "height": 283
        }
      },
      "source": [
        "f1 = data_records['UNEMPLOY'].values\n",
        "f2 = data_records['NASDAQ'].values\n",
        "\n",
        "plt.xlabel('UNEMPLOY')                    #label on x-axis\n",
        "plt.ylabel('NASDAQ')                      #label on y-axis\n",
        "plt.scatter(f1, f2, c='green', s=7)\n",
        "plt.show()"
      ],
      "execution_count": 204,
      "outputs": [
        {
          "output_type": "display_data",
          "data": {
            "image/png": "[encoded data removed]",
            "text/plain": [
              "<Figure size 432x288 with 1 Axes>"
            ]
          },
          "metadata": {
            "tags": []
          }
        }
      ]
    },
    {
      "cell_type": "markdown",
      "metadata": {
        "id": "yM3Mi6DtRh8x",
        "colab_type": "text"
      },
      "source": [
        "**Applying K-means on the selected attributes from dataset**"
      ]
    },
    {
      "cell_type": "code",
      "metadata": {
        "id": "9_6JFfPzRozO",
        "colab_type": "code",
        "outputId": "29cd4aca-0b24-4873-af76-a0d06b25a220",
        "colab": {
          "base_uri": "https://localhost:8080/",
          "height": 283
        }
      },
      "source": [
        "X = np.matrix(list(zip(f1, f2)))\n",
        "sse = {}\n",
        "for k in range(1, 10):\n",
        "  kmeans = KMeans(n_clusters=k, max_iter=15).fit(X)\n",
        "  sse[k] = kmeans.inertia_ #Inertia: Sum of distances of samples to their closest cluster center\n",
        "plt.figure()\n",
        "plt.plot(list(sse.keys()), list(sse.values()))\n",
        "plt.xlabel(\"Number of clusters\")\n",
        "plt.ylabel(\"SSE\")\n",
        "plt.show()"
      ],
      "execution_count": 205,
      "outputs": [
        {
          "output_type": "display_data",
          "data": {
            "image/png": "[encoded data removed]",
            "text/plain": [
              "<Figure size 432x288 with 1 Axes>"
            ]
          },
          "metadata": {
            "tags": []
          }
        }
      ]
    },
    {
      "cell_type": "markdown",
      "metadata": {
        "id": "Jck0QI1pUn_a",
        "colab_type": "text"
      },
      "source": [
        "From the above figure, it is clear that the optimal k=number of clusters is 3"
      ]
    },
    {
      "cell_type": "markdown",
      "metadata": {
        "id": "vmv6BX6sUzCA",
        "colab_type": "text"
      },
      "source": [
        "**Apply k-means and plot the data for visualization**"
      ]
    },
    {
      "cell_type": "code",
      "metadata": {
        "id": "WdUqxySlU-JD",
        "colab_type": "code",
        "outputId": "d4ba80ee-0979-4be4-bd10-37af4687fbe9",
        "colab": {
          "base_uri": "https://localhost:8080/",
          "height": 283
        }
      },
      "source": [
        "M=np.matrix(list(zip(f1, f2)))\n",
        "kmeans = KMeans(n_clusters=3, max_iter=15).fit(M)\n",
        "y_pred = kmeans.predict(M)\n",
        "\n",
        "colors = ['b', 'g', 'm', 'y', 'c']\n",
        "markers = ['o', 'v', 'x', 'o', 's']\n",
        "\n",
        "plt.xlabel('UNEMPLOY')\n",
        "plt.ylabel('NASDAQ')\n",
        "for i, l in enumerate(kmeans.labels_):\n",
        "    plt.plot(f1[i], f2[i], color=colors[l], marker=markers[l],ls='None')"
      ],
      "execution_count": 206,
      "outputs": [
        {
          "output_type": "display_data",
          "data": {
            "image/png": "[encoded data removed]",
            "text/plain": [
              "<Figure size 432x288 with 1 Axes>"
            ]
          },
          "metadata": {
            "tags": []
          }
        }
      ]
    },
    {
      "cell_type": "markdown",
      "metadata": {
        "id": "03kg20zlVmLo",
        "colab_type": "text"
      },
      "source": [
        "**Apply Gaussian Mixture Model (GMM) on selected attributes of the dataset**"
      ]
    },
    {
      "cell_type": "code",
      "metadata": {
        "id": "H6awTG7kV9Zn",
        "colab_type": "code",
        "outputId": "1c12dbd4-a582-472b-e432-f68e07f857b3",
        "colab": {
          "base_uri": "https://localhost:8080/",
          "height": 283
        }
      },
      "source": [
        "import warnings\n",
        "warnings.filterwarnings(\"ignore\", category=DeprecationWarning)\n",
        "from sklearn.mixture import GaussianMixture\n",
        "M=np.matrix(list(zip(f1, f2)))\n",
        "gmm = GaussianMixture(n_components=3,  covariance_type='spherical', random_state=0).fit(M)\n",
        "labels = gmm.predict(M)\n",
        "\n",
        "plt.xlabel('UNEMPLOY')\n",
        "plt.ylabel('NASDAQ')\n",
        "\n",
        "for i, l in enumerate(labels):\n",
        "    plt.plot(f1[i], f2[i], color=colors[l], marker=markers[l],ls='None')"
      ],
      "execution_count": 207,
      "outputs": [
        {
          "output_type": "display_data",
          "data": {
            "image/png": "[encoded data removed]",
            "text/plain": [
              "<Figure size 432x288 with 1 Axes>"
            ]
          },
          "metadata": {
            "tags": []
          }
        }
      ]
    },
    {
      "cell_type": "markdown",
      "metadata": {
        "id": "HjvLdm7TXEyd",
        "colab_type": "text"
      },
      "source": [
        "**Load the stock data from recession dataset on which Linear Regression will be applied**"
      ]
    },
    {
      "cell_type": "code",
      "metadata": {
        "id": "eqlVJlU1Yn1W",
        "colab_type": "code",
        "outputId": "3942db4f-cfab-4923-9f95-9a9e09a11067",
        "colab": {
          "base_uri": "https://localhost:8080/",
          "height": 202
        }
      },
      "source": [
        "stock_reg_data = data_records[['DATE','NASDAQ','UNEMPLOY','YIELD']]\n",
        "stock_reg_data.head()\n"
      ],
      "execution_count": 208,
      "outputs": [
        {
          "output_type": "execute_result",
          "data": {
            "text/html": [
              "<div>\n",
              "<style scoped>\n",
              "    .dataframe tbody tr th:only-of-type {\n",
              "        vertical-align: middle;\n",
              "    }\n",
              "\n",
              "    .dataframe tbody tr th {\n",
              "        vertical-align: top;\n",
              "    }\n",
              "\n",
              "    .dataframe thead th {\n",
              "        text-align: right;\n",
              "    }\n",
              "</style>\n",
              "<table border=\"1\" class=\"dataframe\">\n",
              "  <thead>\n",
              "    <tr style=\"text-align: right;\">\n",
              "      <th></th>\n",
              "      <th>DATE</th>\n",
              "      <th>NASDAQ</th>\n",
              "      <th>UNEMPLOY</th>\n",
              "      <th>YIELD</th>\n",
              "    </tr>\n",
              "  </thead>\n",
              "  <tbody>\n",
              "    <tr>\n",
              "      <th>0</th>\n",
              "      <td>7/1/1976</td>\n",
              "      <td>0.000000</td>\n",
              "      <td>0.193368</td>\n",
              "      <td>0.583019</td>\n",
              "    </tr>\n",
              "    <tr>\n",
              "      <th>1</th>\n",
              "      <td>10/1/1976</td>\n",
              "      <td>0.000005</td>\n",
              "      <td>0.200541</td>\n",
              "      <td>0.673182</td>\n",
              "    </tr>\n",
              "    <tr>\n",
              "      <th>2</th>\n",
              "      <td>1/1/1977</td>\n",
              "      <td>0.000640</td>\n",
              "      <td>0.180965</td>\n",
              "      <td>0.640040</td>\n",
              "    </tr>\n",
              "    <tr>\n",
              "      <th>3</th>\n",
              "      <td>4/1/1977</td>\n",
              "      <td>0.000695</td>\n",
              "      <td>0.148881</td>\n",
              "      <td>0.619450</td>\n",
              "    </tr>\n",
              "    <tr>\n",
              "      <th>4</th>\n",
              "      <td>7/1/1977</td>\n",
              "      <td>0.001223</td>\n",
              "      <td>0.128127</td>\n",
              "      <td>0.513151</td>\n",
              "    </tr>\n",
              "  </tbody>\n",
              "</table>\n",
              "</div>"
            ],
            "text/plain": [
              "        DATE    NASDAQ  UNEMPLOY     YIELD\n",
              "0   7/1/1976  0.000000  0.193368  0.583019\n",
              "1  10/1/1976  0.000005  0.200541  0.673182\n",
              "2   1/1/1977  0.000640  0.180965  0.640040\n",
              "3   4/1/1977  0.000695  0.148881  0.619450\n",
              "4   7/1/1977  0.001223  0.128127  0.513151"
            ]
          },
          "metadata": {
            "tags": []
          },
          "execution_count": 208
        }
      ]
    },
    {
      "cell_type": "markdown",
      "metadata": {
        "id": "t8xpd9kwZcJ7",
        "colab_type": "text"
      },
      "source": [
        "**Applying Linear Regression and predicting result before data enrichment** \n",
        "\n",
        "Predict NASDAQ index based on UNEMPLOY and YIELD factors\n"
      ]
    },
    {
      "cell_type": "markdown",
      "metadata": {
        "id": "9wYIsw-DpZcr",
        "colab_type": "text"
      },
      "source": [
        "**Prediction of NASDAQ index based on UNEMPLOY factor**"
      ]
    },
    {
      "cell_type": "markdown",
      "metadata": {
        "id": "nwta7jCEaVyX",
        "colab_type": "text"
      },
      "source": [
        "**Step 1:** Separate train and test data"
      ]
    },
    {
      "cell_type": "code",
      "metadata": {
        "id": "zxjDj1N3aawc",
        "colab_type": "code",
        "colab": {}
      },
      "source": [
        "X = stock_reg_data[['UNEMPLOY']]\n",
        "y = stock_reg_data[['NASDAQ']]\n",
        "\n",
        "#Import train_test_split from sklearn\n",
        "from sklearn.model_selection import train_test_split\n",
        "\n",
        "#Split X and y into X_\n",
        "X_train, X_test, y_train, y_test = train_test_split(X, y, test_size=0.2, random_state=1)\n"
      ],
      "execution_count": 0,
      "outputs": []
    },
    {
      "cell_type": "code",
      "metadata": {
        "id": "Irye-60q0sXZ",
        "colab_type": "code",
        "colab": {
          "base_uri": "https://localhost:8080/",
          "height": 1000
        },
        "outputId": "2edf378d-5c7c-4a55-d23a-5ef6887e9831"
      },
      "source": [
        "#Print X_test values\n",
        "X_test"
      ],
      "execution_count": 210,
      "outputs": [
        {
          "output_type": "execute_result",
          "data": {
            "text/html": [
              "<div>\n",
              "<style scoped>\n",
              "    .dataframe tbody tr th:only-of-type {\n",
              "        vertical-align: middle;\n",
              "    }\n",
              "\n",
              "    .dataframe tbody tr th {\n",
              "        vertical-align: top;\n",
              "    }\n",
              "\n",
              "    .dataframe thead th {\n",
              "        text-align: right;\n",
              "    }\n",
              "</style>\n",
              "<table border=\"1\" class=\"dataframe\">\n",
              "  <thead>\n",
              "    <tr style=\"text-align: right;\">\n",
              "      <th></th>\n",
              "      <th>UNEMPLOY</th>\n",
              "    </tr>\n",
              "  </thead>\n",
              "  <tbody>\n",
              "    <tr>\n",
              "      <th>92</th>\n",
              "      <td>0.033643</td>\n",
              "    </tr>\n",
              "    <tr>\n",
              "      <th>113</th>\n",
              "      <td>0.246691</td>\n",
              "    </tr>\n",
              "    <tr>\n",
              "      <th>19</th>\n",
              "      <td>0.254106</td>\n",
              "    </tr>\n",
              "    <tr>\n",
              "      <th>69</th>\n",
              "      <td>0.310512</td>\n",
              "    </tr>\n",
              "    <tr>\n",
              "      <th>53</th>\n",
              "      <td>0.111392</td>\n",
              "    </tr>\n",
              "    <tr>\n",
              "      <th>162</th>\n",
              "      <td>0.182697</td>\n",
              "    </tr>\n",
              "    <tr>\n",
              "      <th>108</th>\n",
              "      <td>0.347204</td>\n",
              "    </tr>\n",
              "    <tr>\n",
              "      <th>14</th>\n",
              "      <td>0.114580</td>\n",
              "    </tr>\n",
              "    <tr>\n",
              "      <th>99</th>\n",
              "      <td>0.075324</td>\n",
              "    </tr>\n",
              "    <tr>\n",
              "      <th>107</th>\n",
              "      <td>0.355415</td>\n",
              "    </tr>\n",
              "    <tr>\n",
              "      <th>11</th>\n",
              "      <td>0.036761</td>\n",
              "    </tr>\n",
              "    <tr>\n",
              "      <th>4</th>\n",
              "      <td>0.128127</td>\n",
              "    </tr>\n",
              "    <tr>\n",
              "      <th>117</th>\n",
              "      <td>0.190250</td>\n",
              "    </tr>\n",
              "    <tr>\n",
              "      <th>42</th>\n",
              "      <td>0.236020</td>\n",
              "    </tr>\n",
              "    <tr>\n",
              "      <th>122</th>\n",
              "      <td>0.137447</td>\n",
              "    </tr>\n",
              "    <tr>\n",
              "      <th>125</th>\n",
              "      <td>0.184152</td>\n",
              "    </tr>\n",
              "    <tr>\n",
              "      <th>147</th>\n",
              "      <td>0.636061</td>\n",
              "    </tr>\n",
              "    <tr>\n",
              "      <th>35</th>\n",
              "      <td>0.289308</td>\n",
              "    </tr>\n",
              "    <tr>\n",
              "      <th>81</th>\n",
              "      <td>0.163294</td>\n",
              "    </tr>\n",
              "    <tr>\n",
              "      <th>31</th>\n",
              "      <td>0.299252</td>\n",
              "    </tr>\n",
              "    <tr>\n",
              "      <th>51</th>\n",
              "      <td>0.090534</td>\n",
              "    </tr>\n",
              "    <tr>\n",
              "      <th>75</th>\n",
              "      <td>0.197318</td>\n",
              "    </tr>\n",
              "    <tr>\n",
              "      <th>78</th>\n",
              "      <td>0.184152</td>\n",
              "    </tr>\n",
              "    <tr>\n",
              "      <th>73</th>\n",
              "      <td>0.188137</td>\n",
              "    </tr>\n",
              "    <tr>\n",
              "      <th>40</th>\n",
              "      <td>0.275691</td>\n",
              "    </tr>\n",
              "    <tr>\n",
              "      <th>84</th>\n",
              "      <td>0.107823</td>\n",
              "    </tr>\n",
              "    <tr>\n",
              "      <th>47</th>\n",
              "      <td>0.108066</td>\n",
              "    </tr>\n",
              "    <tr>\n",
              "      <th>29</th>\n",
              "      <td>0.412653</td>\n",
              "    </tr>\n",
              "    <tr>\n",
              "      <th>16</th>\n",
              "      <td>0.272261</td>\n",
              "    </tr>\n",
              "    <tr>\n",
              "      <th>105</th>\n",
              "      <td>0.300049</td>\n",
              "    </tr>\n",
              "    <tr>\n",
              "      <th>85</th>\n",
              "      <td>0.084228</td>\n",
              "    </tr>\n",
              "    <tr>\n",
              "      <th>154</th>\n",
              "      <td>0.319105</td>\n",
              "    </tr>\n",
              "    <tr>\n",
              "      <th>158</th>\n",
              "      <td>0.230234</td>\n",
              "    </tr>\n",
              "    <tr>\n",
              "      <th>5</th>\n",
              "      <td>0.109383</td>\n",
              "    </tr>\n",
              "    <tr>\n",
              "      <th>94</th>\n",
              "      <td>0.017047</td>\n",
              "    </tr>\n",
              "  </tbody>\n",
              "</table>\n",
              "</div>"
            ],
            "text/plain": [
              "     UNEMPLOY\n",
              "92   0.033643\n",
              "113  0.246691\n",
              "19   0.254106\n",
              "69   0.310512\n",
              "53   0.111392\n",
              "162  0.182697\n",
              "108  0.347204\n",
              "14   0.114580\n",
              "99   0.075324\n",
              "107  0.355415\n",
              "11   0.036761\n",
              "4    0.128127\n",
              "117  0.190250\n",
              "42   0.236020\n",
              "122  0.137447\n",
              "125  0.184152\n",
              "147  0.636061\n",
              "35   0.289308\n",
              "81   0.163294\n",
              "31   0.299252\n",
              "51   0.090534\n",
              "75   0.197318\n",
              "78   0.184152\n",
              "73   0.188137\n",
              "40   0.275691\n",
              "84   0.107823\n",
              "47   0.108066\n",
              "29   0.412653\n",
              "16   0.272261\n",
              "105  0.300049\n",
              "85   0.084228\n",
              "154  0.319105\n",
              "158  0.230234\n",
              "5    0.109383\n",
              "94   0.017047"
            ]
          },
          "metadata": {
            "tags": []
          },
          "execution_count": 210
        }
      ]
    },
    {
      "cell_type": "markdown",
      "metadata": {
        "id": "UPZsHifSdPH7",
        "colab_type": "text"
      },
      "source": [
        "**Step 2:** There are three steps to model the data with Linear Regression using sklearn"
      ]
    },
    {
      "cell_type": "code",
      "metadata": {
        "id": "OSEYxtHAdaUm",
        "colab_type": "code",
        "outputId": "7ee261e4-b158-4f9d-fed3-348efc09c19c",
        "colab": {
          "base_uri": "https://localhost:8080/",
          "height": 35
        }
      },
      "source": [
        "#Setup the model\n",
        "model = LinearRegression()\n",
        "\n",
        "#Use fit function\n",
        "model.fit(X_train, y_train)\n",
        "\n",
        "#Check the score\n",
        "sc = model.score(X_test, y_test)\n",
        "sc"
      ],
      "execution_count": 211,
      "outputs": [
        {
          "output_type": "execute_result",
          "data": {
            "text/plain": [
              "-0.08828260493393869"
            ]
          },
          "metadata": {
            "tags": []
          },
          "execution_count": 211
        }
      ]
    },
    {
      "cell_type": "markdown",
      "metadata": {
        "id": "cjIcawK7eXqW",
        "colab_type": "text"
      },
      "source": [
        "**Step 3:** After fitting the model, get the co-efficients"
      ]
    },
    {
      "cell_type": "code",
      "metadata": {
        "id": "KdposC0qefiK",
        "colab_type": "code",
        "outputId": "e38808a2-4ae6-4e0a-8023-0a357bdb3c59",
        "colab": {
          "base_uri": "https://localhost:8080/",
          "height": 35
        }
      },
      "source": [
        "model.coef_    #Get the coefficients, beta"
      ],
      "execution_count": 212,
      "outputs": [
        {
          "output_type": "execute_result",
          "data": {
            "text/plain": [
              "array([[-0.03862302]])"
            ]
          },
          "metadata": {
            "tags": []
          },
          "execution_count": 212
        }
      ]
    },
    {
      "cell_type": "markdown",
      "metadata": {
        "id": "3YkSow34f4xj",
        "colab_type": "text"
      },
      "source": [
        "**Step 4:** Get the intercept"
      ]
    },
    {
      "cell_type": "code",
      "metadata": {
        "id": "e1d28FIjf-_M",
        "colab_type": "code",
        "outputId": "d1a9b587-e793-4609-e1c1-92c691a87384",
        "colab": {
          "base_uri": "https://localhost:8080/",
          "height": 35
        }
      },
      "source": [
        "model.intercept_  #Get the intercept, c"
      ],
      "execution_count": 213,
      "outputs": [
        {
          "output_type": "execute_result",
          "data": {
            "text/plain": [
              "array([0.24860794])"
            ]
          },
          "metadata": {
            "tags": []
          },
          "execution_count": 213
        }
      ]
    },
    {
      "cell_type": "code",
      "metadata": {
        "id": "9t11a_TCJ-Nt",
        "colab_type": "code",
        "colab": {
          "base_uri": "https://localhost:8080/",
          "height": 69
        },
        "outputId": "6b381565-11d0-4b65-fb9a-3d53ec64e7a3"
      },
      "source": [
        "y_predict = model.predict(X_test) \n",
        "from sklearn.metrics import mean_squared_error, mean_squared_log_error, mean_absolute_error\n",
        "print('Mean Absolute Error:', mean_absolute_error(y_test, y_predict))  \n",
        "print('Mean Squared Error:', mean_squared_error(y_test, y_predict))  \n",
        "print('Root Mean Squared Error:', np.sqrt(mean_squared_error(y_test, y_predict)))"
      ],
      "execution_count": 214,
      "outputs": [
        {
          "output_type": "stream",
          "text": [
            "Mean Absolute Error: 0.17021720973094273\n",
            "Mean Squared Error: 0.04053512678749557\n",
            "Root Mean Squared Error: 0.20133337226474793\n"
          ],
          "name": "stdout"
        }
      ]
    },
    {
      "cell_type": "markdown",
      "metadata": {
        "id": "d6ohYSXGgSte",
        "colab_type": "text"
      },
      "source": [
        "**Step 5:** Predict unknown data"
      ]
    },
    {
      "cell_type": "code",
      "metadata": {
        "id": "Jiv_hA01gXOH",
        "colab_type": "code",
        "colab": {
          "base_uri": "https://localhost:8080/",
          "height": 624
        },
        "outputId": "8f60c446-4249-4154-9eb1-079dd8f558c0"
      },
      "source": [
        "y_pred = model.predict(X_test) \n",
        "y_pred"
      ],
      "execution_count": 215,
      "outputs": [
        {
          "output_type": "execute_result",
          "data": {
            "text/plain": [
              "array([[0.24730855],\n",
              "       [0.23907998],\n",
              "       [0.23879361],\n",
              "       [0.23661503],\n",
              "       [0.24430564],\n",
              "       [0.24155163],\n",
              "       [0.23519788],\n",
              "       [0.24418253],\n",
              "       [0.2456987 ],\n",
              "       [0.23488072],\n",
              "       [0.24718811],\n",
              "       [0.24365929],\n",
              "       [0.2412599 ],\n",
              "       [0.23949215],\n",
              "       [0.24329932],\n",
              "       [0.24149543],\n",
              "       [0.22404134],\n",
              "       [0.237434  ],\n",
              "       [0.24230102],\n",
              "       [0.23704994],\n",
              "       [0.24511123],\n",
              "       [0.24098691],\n",
              "       [0.24149543],\n",
              "       [0.24134153],\n",
              "       [0.23795991],\n",
              "       [0.24444347],\n",
              "       [0.24443411],\n",
              "       [0.23267002],\n",
              "       [0.23809239],\n",
              "       [0.23701916],\n",
              "       [0.24535478],\n",
              "       [0.23628315],\n",
              "       [0.23971563],\n",
              "       [0.24438325],\n",
              "       [0.24794955]])"
            ]
          },
          "metadata": {
            "tags": []
          },
          "execution_count": 215
        }
      ]
    },
    {
      "cell_type": "markdown",
      "metadata": {
        "id": "boc5GG-elDuW",
        "colab_type": "text"
      },
      "source": [
        "**Step 6:** Visualizing the Training results"
      ]
    },
    {
      "cell_type": "code",
      "metadata": {
        "id": "4MHBW-Phj9C2",
        "colab_type": "code",
        "outputId": "8741118b-0d16-4bc2-dad5-349bbb096f6a",
        "colab": {
          "base_uri": "https://localhost:8080/",
          "height": 295
        }
      },
      "source": [
        "y_pred = model.predict(X_test) \n",
        "\n",
        "#Visualizing the Training Results \n",
        "\n",
        "plt.scatter(X_train, y_train, color= 'green')\n",
        "plt.plot(X_train, model.predict(X_train), color = 'blue')\n",
        "plt.title (\"Visualization for Training Dataset\")\n",
        "plt.xlabel(\"UNEMPLOY\")\n",
        "plt.ylabel(\"NASDAQ\")\n",
        "plt.show()"
      ],
      "execution_count": 216,
      "outputs": [
        {
          "output_type": "display_data",
          "data": {
            "image/png": "[encoded data removed]",
            "text/plain": [
              "<Figure size 432x288 with 1 Axes>"
            ]
          },
          "metadata": {
            "tags": []
          }
        }
      ]
    },
    {
      "cell_type": "markdown",
      "metadata": {
        "id": "2C85ZxColf_Q",
        "colab_type": "text"
      },
      "source": [
        "**Step 7:** Visualizing the Test results"
      ]
    },
    {
      "cell_type": "code",
      "metadata": {
        "id": "8G63vSMtliCW",
        "colab_type": "code",
        "outputId": "f5b1acfd-138d-45ef-aeac-1811bdf91aa6",
        "colab": {
          "base_uri": "https://localhost:8080/",
          "height": 295
        }
      },
      "source": [
        "#Visualizing the Test Results \n",
        "\n",
        "plt.scatter(X_test, y_test, color= 'red')\n",
        "plt.plot(X_train, model.predict(X_train), color = 'blue')\n",
        "plt.title (\"Visualization for Test Dataset\")\n",
        "plt.xlabel(\"UNEMPLOY\")\n",
        "plt.ylabel(\"NASDAQ\")\n",
        "plt.show()"
      ],
      "execution_count": 217,
      "outputs": [
        {
          "output_type": "display_data",
          "data": {
            "image/png": "[encoded data removed]",
            "text/plain": [
              "<Figure size 432x288 with 1 Axes>"
            ]
          },
          "metadata": {
            "tags": []
          }
        }
      ]
    },
    {
      "cell_type": "markdown",
      "metadata": {
        "id": "tNShzzjVvlaE",
        "colab_type": "text"
      },
      "source": [
        "**Prediction of NASDAQ index based on YIELD factor**"
      ]
    },
    {
      "cell_type": "markdown",
      "metadata": {
        "id": "DiIXSStRvs4L",
        "colab_type": "text"
      },
      "source": [
        "**Step 1:** Separate train and test data"
      ]
    },
    {
      "cell_type": "code",
      "metadata": {
        "id": "bznjK6-mvtrH",
        "colab_type": "code",
        "colab": {}
      },
      "source": [
        "X = stock_reg_data[['YIELD']]\n",
        "y = stock_reg_data[['NASDAQ']]\n",
        "\n",
        "#Import train_test_split from sklearn\n",
        "from sklearn.model_selection import train_test_split\n",
        "\n",
        "#Split X and y into X_\n",
        "X_train, X_test, y_train, y_test = train_test_split(X, y, test_size=0.2, random_state=1)"
      ],
      "execution_count": 0,
      "outputs": []
    },
    {
      "cell_type": "markdown",
      "metadata": {
        "id": "ApBrNIWHv9GH",
        "colab_type": "text"
      },
      "source": [
        "**Step 2:** There are three steps to model the data with Linear Regression using sklearn"
      ]
    },
    {
      "cell_type": "code",
      "metadata": {
        "id": "7i5tPpmtv9uE",
        "colab_type": "code",
        "outputId": "f2b0c61a-dc92-4bea-e800-e91498ea403b",
        "colab": {
          "base_uri": "https://localhost:8080/",
          "height": 35
        }
      },
      "source": [
        "#Setup the model\n",
        "model = LinearRegression()\n",
        "\n",
        "#Use fit function\n",
        "model.fit(X_train, y_train)\n",
        "\n",
        "#Check the score\n",
        "sc1 = model.score(X_test, y_test)\n",
        "sc1"
      ],
      "execution_count": 219,
      "outputs": [
        {
          "output_type": "execute_result",
          "data": {
            "text/plain": [
              "-0.012855727191005252"
            ]
          },
          "metadata": {
            "tags": []
          },
          "execution_count": 219
        }
      ]
    },
    {
      "cell_type": "code",
      "metadata": {
        "id": "ZFm4Vt_H1Liv",
        "colab_type": "code",
        "colab": {}
      },
      "source": [
        "#Print X_test values\n",
        "X_test"
      ],
      "execution_count": 0,
      "outputs": []
    },
    {
      "cell_type": "markdown",
      "metadata": {
        "id": "2DFDlPcgwLhz",
        "colab_type": "text"
      },
      "source": [
        "**Step 3:** After fitting the model, get the co-efficients"
      ]
    },
    {
      "cell_type": "code",
      "metadata": {
        "id": "TCU-eqC4wMHD",
        "colab_type": "code",
        "outputId": "b5e09aa1-de87-4f9e-bc99-f503a2ba06a1",
        "colab": {
          "base_uri": "https://localhost:8080/",
          "height": 35
        }
      },
      "source": [
        "model.coef_    #Get the coefficients, beta"
      ],
      "execution_count": 220,
      "outputs": [
        {
          "output_type": "execute_result",
          "data": {
            "text/plain": [
              "array([[0.10815947]])"
            ]
          },
          "metadata": {
            "tags": []
          },
          "execution_count": 220
        }
      ]
    },
    {
      "cell_type": "markdown",
      "metadata": {
        "id": "ctaErT3kwTRD",
        "colab_type": "text"
      },
      "source": [
        "**Step 4:** Get the intercept"
      ]
    },
    {
      "cell_type": "code",
      "metadata": {
        "id": "JyNGpGQswTu4",
        "colab_type": "code",
        "outputId": "d4c5b987-87ab-4bd0-f152-8bb55abb4705",
        "colab": {
          "base_uri": "https://localhost:8080/",
          "height": 35
        }
      },
      "source": [
        "model.intercept_  #Get the intercept, c"
      ],
      "execution_count": 221,
      "outputs": [
        {
          "output_type": "execute_result",
          "data": {
            "text/plain": [
              "array([0.17631366])"
            ]
          },
          "metadata": {
            "tags": []
          },
          "execution_count": 221
        }
      ]
    },
    {
      "cell_type": "code",
      "metadata": {
        "id": "3Gz_V5B6Ko1v",
        "colab_type": "code",
        "colab": {
          "base_uri": "https://localhost:8080/",
          "height": 69
        },
        "outputId": "8cb0ee3e-2926-42ce-eb11-67c1f063ce11"
      },
      "source": [
        "y_predict = model.predict(X_test) \n",
        "from sklearn.metrics import mean_squared_error, mean_squared_log_error, mean_absolute_error\n",
        "print('Mean Absolute Error:', mean_absolute_error(y_test, y_predict))  \n",
        "print('Mean Squared Error:', mean_squared_error(y_test, y_predict))  \n",
        "print('Root Mean Squared Error:', np.sqrt(mean_squared_error(y_test, y_predict)))"
      ],
      "execution_count": 222,
      "outputs": [
        {
          "output_type": "stream",
          "text": [
            "Mean Absolute Error: 0.16460529006825245\n",
            "Mean Squared Error: 0.03772571125642556\n",
            "Root Mean Squared Error: 0.19423107695841457\n"
          ],
          "name": "stdout"
        }
      ]
    },
    {
      "cell_type": "markdown",
      "metadata": {
        "id": "RxEo_Z30wbdK",
        "colab_type": "text"
      },
      "source": [
        "**Step 5:** Predict unknown data"
      ]
    },
    {
      "cell_type": "code",
      "metadata": {
        "id": "J2_-w_qiwcDm",
        "colab_type": "code",
        "colab": {
          "base_uri": "https://localhost:8080/",
          "height": 624
        },
        "outputId": "a9ee4e53-4ff9-48e8-f02c-86f3d347d6dd"
      },
      "source": [
        "y_pred = model.predict(X_test) \n",
        "y_pred"
      ],
      "execution_count": 223,
      "outputs": [
        {
          "output_type": "execute_result",
          "data": {
            "text/plain": [
              "array([[0.21685365],\n",
              "       [0.24610137],\n",
              "       [0.18503144],\n",
              "       [0.25081121],\n",
              "       [0.21167379],\n",
              "       [0.24209309],\n",
              "       [0.27782165],\n",
              "       [0.17631366],\n",
              "       [0.23896841],\n",
              "       [0.26853018],\n",
              "       [0.19757423],\n",
              "       [0.23181582],\n",
              "       [0.21348484],\n",
              "       [0.23259824],\n",
              "       [0.20804624],\n",
              "       [0.23081258],\n",
              "       [0.25572116],\n",
              "       [0.24791861],\n",
              "       [0.22480658],\n",
              "       [0.23267885],\n",
              "       [0.20529576],\n",
              "       [0.22262987],\n",
              "       [0.2271893 ],\n",
              "       [0.22809816],\n",
              "       [0.23290375],\n",
              "       [0.21918263],\n",
              "       [0.23767177],\n",
              "       [0.23661382],\n",
              "       [0.22573446],\n",
              "       [0.26630533],\n",
              "       [0.21476235],\n",
              "       [0.2463898 ],\n",
              "       [0.23879836],\n",
              "       [0.22226971],\n",
              "       [0.20866991]])"
            ]
          },
          "metadata": {
            "tags": []
          },
          "execution_count": 223
        }
      ]
    },
    {
      "cell_type": "markdown",
      "metadata": {
        "id": "uEdaOUX-xDW_",
        "colab_type": "text"
      },
      "source": [
        "**Step 6:** Visualizing the Training results"
      ]
    },
    {
      "cell_type": "code",
      "metadata": {
        "id": "BfHQ6HSjxD74",
        "colab_type": "code",
        "outputId": "003aec85-0031-465d-eac2-fa7fea4d01cb",
        "colab": {
          "base_uri": "https://localhost:8080/",
          "height": 295
        }
      },
      "source": [
        "y_pred = model.predict(X_test) \n",
        "\n",
        "#Visualizing the Training Results \n",
        "\n",
        "plt.scatter(X_train, y_train, color= 'purple')\n",
        "plt.plot(X_train, model.predict(X_train), color = 'blue')\n",
        "plt.title (\"Visualization for Training Dataset\")\n",
        "plt.xlabel(\"YIELD\")\n",
        "plt.ylabel(\"NASDAQ\")\n",
        "plt.show()"
      ],
      "execution_count": 224,
      "outputs": [
        {
          "output_type": "display_data",
          "data": {
            "image/png": "[encoded data removed]",
            "text/plain": [
              "<Figure size 432x288 with 1 Axes>"
            ]
          },
          "metadata": {
            "tags": []
          }
        }
      ]
    },
    {
      "cell_type": "markdown",
      "metadata": {
        "id": "H56zKEoQxaqU",
        "colab_type": "text"
      },
      "source": [
        "**Step 7:** Visualizing the Test results"
      ]
    },
    {
      "cell_type": "code",
      "metadata": {
        "id": "hYM1MWSzxbey",
        "colab_type": "code",
        "outputId": "24303cdc-57d7-483a-cf1b-99587e1a76d6",
        "colab": {
          "base_uri": "https://localhost:8080/",
          "height": 295
        }
      },
      "source": [
        "#Visualizing the Test Results \n",
        "\n",
        "plt.scatter(X_test, y_test, color= 'blue')\n",
        "plt.plot(X_train, model.predict(X_train), color = 'green')\n",
        "plt.title (\"Visualization for Test Dataset\")\n",
        "plt.xlabel(\"YIELD\")\n",
        "plt.ylabel(\"NASDAQ\")\n",
        "plt.show()"
      ],
      "execution_count": 225,
      "outputs": [
        {
          "output_type": "display_data",
          "data": {
            "image/png": "[encoded data removed]",
            "text/plain": [
              "<Figure size 432x288 with 1 Axes>"
            ]
          },
          "metadata": {
            "tags": []
          }
        }
      ]
    },
    {
      "cell_type": "markdown",
      "metadata": {
        "id": "y_V7hrxWJm_x",
        "colab_type": "text"
      },
      "source": [
        "**Data Enrichment Step**"
      ]
    },
    {
      "cell_type": "markdown",
      "metadata": {
        "id": "Q-ALSpKWelgh",
        "colab_type": "text"
      },
      "source": [
        "**Now merge the  data set into recession factors data set to see the relation between real gdp and NASDAQ index**"
      ]
    },
    {
      "cell_type": "code",
      "metadata": {
        "id": "F8QKcI1viyN9",
        "colab_type": "code",
        "outputId": "9368b398-bef7-424a-cb5e-329da56b3646",
        "colab": {
          "base_uri": "https://localhost:8080/",
          "height": 1000
        }
      },
      "source": [
        "#Get the required columns from GDP dataset\n",
        "data_gdp_columns_required = data_gdp_records[['GDP']] \n",
        "\n",
        "#Get the required columns from recession factors dataset\n",
        "data_recession_columns_required = data_records[['DATE','NASDAQ','UNEMPLOY','YIELD']]\n",
        "\n",
        "frames = [data_recession_columns_required, data_gdp_columns_required]\n",
        "#merged_data = pd.concat(frames, sort=False)\n",
        "\n",
        "merged_data = X = pd.concat((data_recession_columns_required,data_gdp_columns_required), axis = 1)\n",
        "\n",
        "merged_data"
      ],
      "execution_count": 231,
      "outputs": [
        {
          "output_type": "execute_result",
          "data": {
            "text/html": [
              "<div>\n",
              "<style scoped>\n",
              "    .dataframe tbody tr th:only-of-type {\n",
              "        vertical-align: middle;\n",
              "    }\n",
              "\n",
              "    .dataframe tbody tr th {\n",
              "        vertical-align: top;\n",
              "    }\n",
              "\n",
              "    .dataframe thead th {\n",
              "        text-align: right;\n",
              "    }\n",
              "</style>\n",
              "<table border=\"1\" class=\"dataframe\">\n",
              "  <thead>\n",
              "    <tr style=\"text-align: right;\">\n",
              "      <th></th>\n",
              "      <th>DATE</th>\n",
              "      <th>NASDAQ</th>\n",
              "      <th>UNEMPLOY</th>\n",
              "      <th>YIELD</th>\n",
              "      <th>GDP</th>\n",
              "    </tr>\n",
              "  </thead>\n",
              "  <tbody>\n",
              "    <tr>\n",
              "      <th>0</th>\n",
              "      <td>7/1/1976</td>\n",
              "      <td>0.000000</td>\n",
              "      <td>0.193368</td>\n",
              "      <td>0.583019</td>\n",
              "      <td>5965.265</td>\n",
              "    </tr>\n",
              "    <tr>\n",
              "      <th>1</th>\n",
              "      <td>10/1/1976</td>\n",
              "      <td>0.000005</td>\n",
              "      <td>0.200541</td>\n",
              "      <td>0.673182</td>\n",
              "      <td>6008.504</td>\n",
              "    </tr>\n",
              "    <tr>\n",
              "      <th>2</th>\n",
              "      <td>1/1/1977</td>\n",
              "      <td>0.000640</td>\n",
              "      <td>0.180965</td>\n",
              "      <td>0.640040</td>\n",
              "      <td>6079.494</td>\n",
              "    </tr>\n",
              "    <tr>\n",
              "      <th>3</th>\n",
              "      <td>4/1/1977</td>\n",
              "      <td>0.000695</td>\n",
              "      <td>0.148881</td>\n",
              "      <td>0.619450</td>\n",
              "      <td>6197.686</td>\n",
              "    </tr>\n",
              "    <tr>\n",
              "      <th>4</th>\n",
              "      <td>7/1/1977</td>\n",
              "      <td>0.001223</td>\n",
              "      <td>0.128127</td>\n",
              "      <td>0.513151</td>\n",
              "      <td>6309.514</td>\n",
              "    </tr>\n",
              "    <tr>\n",
              "      <th>5</th>\n",
              "      <td>10/1/1977</td>\n",
              "      <td>0.001282</td>\n",
              "      <td>0.109383</td>\n",
              "      <td>0.424892</td>\n",
              "      <td>6309.652</td>\n",
              "    </tr>\n",
              "    <tr>\n",
              "      <th>6</th>\n",
              "      <td>1/1/1978</td>\n",
              "      <td>0.001439</td>\n",
              "      <td>0.080972</td>\n",
              "      <td>0.427726</td>\n",
              "      <td>6329.791</td>\n",
              "    </tr>\n",
              "    <tr>\n",
              "      <th>7</th>\n",
              "      <td>4/1/1978</td>\n",
              "      <td>0.003372</td>\n",
              "      <td>0.052942</td>\n",
              "      <td>0.392140</td>\n",
              "      <td>6574.390</td>\n",
              "    </tr>\n",
              "    <tr>\n",
              "      <th>8</th>\n",
              "      <td>7/1/1978</td>\n",
              "      <td>0.004990</td>\n",
              "      <td>0.059144</td>\n",
              "      <td>0.317447</td>\n",
              "      <td>6640.497</td>\n",
              "    </tr>\n",
              "    <tr>\n",
              "      <th>9</th>\n",
              "      <td>10/1/1978</td>\n",
              "      <td>0.003675</td>\n",
              "      <td>0.050066</td>\n",
              "      <td>0.188703</td>\n",
              "      <td>6729.755</td>\n",
              "    </tr>\n",
              "    <tr>\n",
              "      <th>10</th>\n",
              "      <td>1/1/1979</td>\n",
              "      <td>0.004400</td>\n",
              "      <td>0.054882</td>\n",
              "      <td>0.144676</td>\n",
              "      <td>6741.854</td>\n",
              "    </tr>\n",
              "    <tr>\n",
              "      <th>11</th>\n",
              "      <td>4/1/1979</td>\n",
              "      <td>0.005422</td>\n",
              "      <td>0.036761</td>\n",
              "      <td>0.196567</td>\n",
              "      <td>6749.063</td>\n",
              "    </tr>\n",
              "    <tr>\n",
              "      <th>12</th>\n",
              "      <td>7/1/1979</td>\n",
              "      <td>0.006873</td>\n",
              "      <td>0.058866</td>\n",
              "      <td>0.206244</td>\n",
              "      <td>6799.200</td>\n",
              "    </tr>\n",
              "    <tr>\n",
              "      <th>13</th>\n",
              "      <td>10/1/1979</td>\n",
              "      <td>0.006588</td>\n",
              "      <td>0.071097</td>\n",
              "      <td>0.039082</td>\n",
              "      <td>6816.203</td>\n",
              "    </tr>\n",
              "    <tr>\n",
              "      <th>14</th>\n",
              "      <td>1/1/1980</td>\n",
              "      <td>0.007872</td>\n",
              "      <td>0.114580</td>\n",
              "      <td>0.000000</td>\n",
              "      <td>6837.641</td>\n",
              "    </tr>\n",
              "    <tr>\n",
              "      <th>15</th>\n",
              "      <td>4/1/1980</td>\n",
              "      <td>0.007009</td>\n",
              "      <td>0.229818</td>\n",
              "      <td>0.374897</td>\n",
              "      <td>6696.753</td>\n",
              "    </tr>\n",
              "    <tr>\n",
              "      <th>16</th>\n",
              "      <td>7/1/1980</td>\n",
              "      <td>0.011128</td>\n",
              "      <td>0.272261</td>\n",
              "      <td>0.456925</td>\n",
              "      <td>6688.794</td>\n",
              "    </tr>\n",
              "    <tr>\n",
              "      <th>17</th>\n",
              "      <td>10/1/1980</td>\n",
              "      <td>0.013725</td>\n",
              "      <td>0.243296</td>\n",
              "      <td>0.117872</td>\n",
              "      <td>6813.535</td>\n",
              "    </tr>\n",
              "    <tr>\n",
              "      <th>18</th>\n",
              "      <td>1/1/1981</td>\n",
              "      <td>0.013880</td>\n",
              "      <td>0.252824</td>\n",
              "      <td>0.162332</td>\n",
              "      <td>6947.042</td>\n",
              "    </tr>\n",
              "    <tr>\n",
              "      <th>19</th>\n",
              "      <td>4/1/1981</td>\n",
              "      <td>0.016191</td>\n",
              "      <td>0.254106</td>\n",
              "      <td>0.080601</td>\n",
              "      <td>6895.559</td>\n",
              "    </tr>\n",
              "    <tr>\n",
              "      <th>20</th>\n",
              "      <td>7/1/1981</td>\n",
              "      <td>0.014062</td>\n",
              "      <td>0.253690</td>\n",
              "      <td>0.023241</td>\n",
              "      <td>6978.135</td>\n",
              "    </tr>\n",
              "    <tr>\n",
              "      <th>21</th>\n",
              "      <td>10/1/1981</td>\n",
              "      <td>0.013381</td>\n",
              "      <td>0.351154</td>\n",
              "      <td>0.355408</td>\n",
              "      <td>6902.105</td>\n",
              "    </tr>\n",
              "    <tr>\n",
              "      <th>22</th>\n",
              "      <td>1/1/1982</td>\n",
              "      <td>0.011503</td>\n",
              "      <td>0.422355</td>\n",
              "      <td>0.255875</td>\n",
              "      <td>6794.878</td>\n",
              "    </tr>\n",
              "    <tr>\n",
              "      <th>23</th>\n",
              "      <td>4/1/1982</td>\n",
              "      <td>0.011313</td>\n",
              "      <td>0.495808</td>\n",
              "      <td>0.260114</td>\n",
              "      <td>6825.876</td>\n",
              "    </tr>\n",
              "    <tr>\n",
              "      <th>24</th>\n",
              "      <td>7/1/1982</td>\n",
              "      <td>0.010622</td>\n",
              "      <td>0.559213</td>\n",
              "      <td>0.431714</td>\n",
              "      <td>6799.781</td>\n",
              "    </tr>\n",
              "    <tr>\n",
              "      <th>25</th>\n",
              "      <td>10/1/1982</td>\n",
              "      <td>0.016728</td>\n",
              "      <td>0.648292</td>\n",
              "      <td>0.506436</td>\n",
              "      <td>6802.497</td>\n",
              "    </tr>\n",
              "    <tr>\n",
              "      <th>26</th>\n",
              "      <td>1/1/1983</td>\n",
              "      <td>0.021034</td>\n",
              "      <td>0.612570</td>\n",
              "      <td>0.562311</td>\n",
              "      <td>6892.144</td>\n",
              "    </tr>\n",
              "    <tr>\n",
              "      <th>27</th>\n",
              "      <td>4/1/1983</td>\n",
              "      <td>0.026952</td>\n",
              "      <td>0.584194</td>\n",
              "      <td>0.508052</td>\n",
              "      <td>7048.982</td>\n",
              "    </tr>\n",
              "    <tr>\n",
              "      <th>28</th>\n",
              "      <td>7/1/1983</td>\n",
              "      <td>0.027332</td>\n",
              "      <td>0.507449</td>\n",
              "      <td>0.504244</td>\n",
              "      <td>7189.896</td>\n",
              "    </tr>\n",
              "    <tr>\n",
              "      <th>29</th>\n",
              "      <td>10/1/1983</td>\n",
              "      <td>0.024419</td>\n",
              "      <td>0.412653</td>\n",
              "      <td>0.557512</td>\n",
              "      <td>7339.893</td>\n",
              "    </tr>\n",
              "    <tr>\n",
              "      <th>...</th>\n",
              "      <td>...</td>\n",
              "      <td>...</td>\n",
              "      <td>...</td>\n",
              "      <td>...</td>\n",
              "      <td>...</td>\n",
              "    </tr>\n",
              "    <tr>\n",
              "      <th>142</th>\n",
              "      <td>1/1/2012</td>\n",
              "      <td>0.361695</td>\n",
              "      <td>0.745478</td>\n",
              "      <td>0.742604</td>\n",
              "      <td>16129.418</td>\n",
              "    </tr>\n",
              "    <tr>\n",
              "      <th>143</th>\n",
              "      <td>4/1/2012</td>\n",
              "      <td>0.364174</td>\n",
              "      <td>0.734218</td>\n",
              "      <td>0.690070</td>\n",
              "      <td>16198.807</td>\n",
              "    </tr>\n",
              "    <tr>\n",
              "      <th>144</th>\n",
              "      <td>7/1/2012</td>\n",
              "      <td>0.377027</td>\n",
              "      <td>0.708024</td>\n",
              "      <td>0.652612</td>\n",
              "      <td>16220.667</td>\n",
              "    </tr>\n",
              "    <tr>\n",
              "      <th>145</th>\n",
              "      <td>10/1/2012</td>\n",
              "      <td>0.373829</td>\n",
              "      <td>0.679787</td>\n",
              "      <td>0.666348</td>\n",
              "      <td>16239.138</td>\n",
              "    </tr>\n",
              "    <tr>\n",
              "      <th>146</th>\n",
              "      <td>1/1/2013</td>\n",
              "      <td>0.396271</td>\n",
              "      <td>0.668803</td>\n",
              "      <td>0.727322</td>\n",
              "      <td>16382.964</td>\n",
              "    </tr>\n",
              "    <tr>\n",
              "      <th>147</th>\n",
              "      <td>4/1/2013</td>\n",
              "      <td>0.420886</td>\n",
              "      <td>0.636061</td>\n",
              "      <td>0.734171</td>\n",
              "      <td>16403.180</td>\n",
              "    </tr>\n",
              "    <tr>\n",
              "      <th>148</th>\n",
              "      <td>7/1/2013</td>\n",
              "      <td>0.455936</td>\n",
              "      <td>0.591678</td>\n",
              "      <td>0.887315</td>\n",
              "      <td>16531.685</td>\n",
              "    </tr>\n",
              "    <tr>\n",
              "      <th>149</th>\n",
              "      <td>10/1/2013</td>\n",
              "      <td>0.496548</td>\n",
              "      <td>0.537731</td>\n",
              "      <td>0.906027</td>\n",
              "      <td>16663.649</td>\n",
              "    </tr>\n",
              "    <tr>\n",
              "      <th>150</th>\n",
              "      <td>1/1/2014</td>\n",
              "      <td>0.529087</td>\n",
              "      <td>0.489363</td>\n",
              "      <td>0.899583</td>\n",
              "      <td>16616.540</td>\n",
              "    </tr>\n",
              "    <tr>\n",
              "      <th>151</th>\n",
              "      <td>4/1/2014</td>\n",
              "      <td>0.527212</td>\n",
              "      <td>0.423186</td>\n",
              "      <td>0.853182</td>\n",
              "      <td>16841.475</td>\n",
              "    </tr>\n",
              "    <tr>\n",
              "      <th>152</th>\n",
              "      <td>7/1/2014</td>\n",
              "      <td>0.564067</td>\n",
              "      <td>0.404061</td>\n",
              "      <td>0.799995</td>\n",
              "      <td>17047.098</td>\n",
              "    </tr>\n",
              "    <tr>\n",
              "      <th>153</th>\n",
              "      <td>10/1/2014</td>\n",
              "      <td>0.579249</td>\n",
              "      <td>0.346130</td>\n",
              "      <td>0.739875</td>\n",
              "      <td>17143.038</td>\n",
              "    </tr>\n",
              "    <tr>\n",
              "      <th>154</th>\n",
              "      <td>1/1/2015</td>\n",
              "      <td>0.608063</td>\n",
              "      <td>0.319105</td>\n",
              "      <td>0.647897</td>\n",
              "      <td>17277.580</td>\n",
              "    </tr>\n",
              "    <tr>\n",
              "      <th>155</th>\n",
              "      <td>4/1/2015</td>\n",
              "      <td>0.634381</td>\n",
              "      <td>0.304276</td>\n",
              "      <td>0.693864</td>\n",
              "      <td>17405.669</td>\n",
              "    </tr>\n",
              "    <tr>\n",
              "      <th>156</th>\n",
              "      <td>7/1/2015</td>\n",
              "      <td>0.620787</td>\n",
              "      <td>0.251854</td>\n",
              "      <td>0.688691</td>\n",
              "      <td>17463.222</td>\n",
              "    </tr>\n",
              "    <tr>\n",
              "      <th>157</th>\n",
              "      <td>10/1/2015</td>\n",
              "      <td>0.630267</td>\n",
              "      <td>0.243296</td>\n",
              "      <td>0.644953</td>\n",
              "      <td>17468.902</td>\n",
              "    </tr>\n",
              "    <tr>\n",
              "      <th>158</th>\n",
              "      <td>1/1/2016</td>\n",
              "      <td>0.580952</td>\n",
              "      <td>0.230234</td>\n",
              "      <td>0.577709</td>\n",
              "      <td>17556.839</td>\n",
              "    </tr>\n",
              "    <tr>\n",
              "      <th>159</th>\n",
              "      <td>4/1/2016</td>\n",
              "      <td>0.610689</td>\n",
              "      <td>0.226665</td>\n",
              "      <td>0.553402</td>\n",
              "      <td>17639.417</td>\n",
              "    </tr>\n",
              "    <tr>\n",
              "      <th>160</th>\n",
              "      <td>7/1/2016</td>\n",
              "      <td>0.652199</td>\n",
              "      <td>0.230164</td>\n",
              "      <td>0.518420</td>\n",
              "      <td>17735.074</td>\n",
              "    </tr>\n",
              "    <tr>\n",
              "      <th>161</th>\n",
              "      <td>10/1/2016</td>\n",
              "      <td>0.670310</td>\n",
              "      <td>0.207713</td>\n",
              "      <td>0.590251</td>\n",
              "      <td>17824.231</td>\n",
              "    </tr>\n",
              "    <tr>\n",
              "      <th>162</th>\n",
              "      <td>1/1/2017</td>\n",
              "      <td>0.725083</td>\n",
              "      <td>0.182697</td>\n",
              "      <td>0.608171</td>\n",
              "      <td>17925.256</td>\n",
              "    </tr>\n",
              "    <tr>\n",
              "      <th>163</th>\n",
              "      <td>4/1/2017</td>\n",
              "      <td>0.771211</td>\n",
              "      <td>0.143822</td>\n",
              "      <td>0.549583</td>\n",
              "      <td>18021.048</td>\n",
              "    </tr>\n",
              "    <tr>\n",
              "      <th>164</th>\n",
              "      <td>7/1/2017</td>\n",
              "      <td>0.803025</td>\n",
              "      <td>0.139491</td>\n",
              "      <td>0.528837</td>\n",
              "      <td>18163.558</td>\n",
              "    </tr>\n",
              "    <tr>\n",
              "      <th>165</th>\n",
              "      <td>10/1/2017</td>\n",
              "      <td>0.856362</td>\n",
              "      <td>0.105156</td>\n",
              "      <td>0.479394</td>\n",
              "      <td>18322.464</td>\n",
              "    </tr>\n",
              "    <tr>\n",
              "      <th>166</th>\n",
              "      <td>1/1/2018</td>\n",
              "      <td>0.920002</td>\n",
              "      <td>0.104185</td>\n",
              "      <td>0.460006</td>\n",
              "      <td>18438.254</td>\n",
              "    </tr>\n",
              "    <tr>\n",
              "      <th>167</th>\n",
              "      <td>4/1/2018</td>\n",
              "      <td>0.933115</td>\n",
              "      <td>0.075982</td>\n",
              "      <td>0.422136</td>\n",
              "      <td>18598.135</td>\n",
              "    </tr>\n",
              "    <tr>\n",
              "      <th>168</th>\n",
              "      <td>7/1/2018</td>\n",
              "      <td>0.999732</td>\n",
              "      <td>0.056164</td>\n",
              "      <td>0.376610</td>\n",
              "      <td>18732.720</td>\n",
              "    </tr>\n",
              "    <tr>\n",
              "      <th>169</th>\n",
              "      <td>10/1/2018</td>\n",
              "      <td>0.915027</td>\n",
              "      <td>0.056025</td>\n",
              "      <td>0.371809</td>\n",
              "      <td>18783.548</td>\n",
              "    </tr>\n",
              "    <tr>\n",
              "      <th>170</th>\n",
              "      <td>1/1/2019</td>\n",
              "      <td>0.931533</td>\n",
              "      <td>0.075324</td>\n",
              "      <td>0.354524</td>\n",
              "      <td>18927.281</td>\n",
              "    </tr>\n",
              "    <tr>\n",
              "      <th>171</th>\n",
              "      <td>4/1/2019</td>\n",
              "      <td>1.000000</td>\n",
              "      <td>0.030490</td>\n",
              "      <td>0.365089</td>\n",
              "      <td>19023.022</td>\n",
              "    </tr>\n",
              "  </tbody>\n",
              "</table>\n",
              "<p>172 rows × 5 columns</p>\n",
              "</div>"
            ],
            "text/plain": [
              "          DATE    NASDAQ  UNEMPLOY     YIELD        GDP\n",
              "0     7/1/1976  0.000000  0.193368  0.583019   5965.265\n",
              "1    10/1/1976  0.000005  0.200541  0.673182   6008.504\n",
              "2     1/1/1977  0.000640  0.180965  0.640040   6079.494\n",
              "3     4/1/1977  0.000695  0.148881  0.619450   6197.686\n",
              "4     7/1/1977  0.001223  0.128127  0.513151   6309.514\n",
              "5    10/1/1977  0.001282  0.109383  0.424892   6309.652\n",
              "6     1/1/1978  0.001439  0.080972  0.427726   6329.791\n",
              "7     4/1/1978  0.003372  0.052942  0.392140   6574.390\n",
              "8     7/1/1978  0.004990  0.059144  0.317447   6640.497\n",
              "9    10/1/1978  0.003675  0.050066  0.188703   6729.755\n",
              "10    1/1/1979  0.004400  0.054882  0.144676   6741.854\n",
              "11    4/1/1979  0.005422  0.036761  0.196567   6749.063\n",
              "12    7/1/1979  0.006873  0.058866  0.206244   6799.200\n",
              "13   10/1/1979  0.006588  0.071097  0.039082   6816.203\n",
              "14    1/1/1980  0.007872  0.114580  0.000000   6837.641\n",
              "15    4/1/1980  0.007009  0.229818  0.374897   6696.753\n",
              "16    7/1/1980  0.011128  0.272261  0.456925   6688.794\n",
              "17   10/1/1980  0.013725  0.243296  0.117872   6813.535\n",
              "18    1/1/1981  0.013880  0.252824  0.162332   6947.042\n",
              "19    4/1/1981  0.016191  0.254106  0.080601   6895.559\n",
              "20    7/1/1981  0.014062  0.253690  0.023241   6978.135\n",
              "21   10/1/1981  0.013381  0.351154  0.355408   6902.105\n",
              "22    1/1/1982  0.011503  0.422355  0.255875   6794.878\n",
              "23    4/1/1982  0.011313  0.495808  0.260114   6825.876\n",
              "24    7/1/1982  0.010622  0.559213  0.431714   6799.781\n",
              "25   10/1/1982  0.016728  0.648292  0.506436   6802.497\n",
              "26    1/1/1983  0.021034  0.612570  0.562311   6892.144\n",
              "27    4/1/1983  0.026952  0.584194  0.508052   7048.982\n",
              "28    7/1/1983  0.027332  0.507449  0.504244   7189.896\n",
              "29   10/1/1983  0.024419  0.412653  0.557512   7339.893\n",
              "..         ...       ...       ...       ...        ...\n",
              "142   1/1/2012  0.361695  0.745478  0.742604  16129.418\n",
              "143   4/1/2012  0.364174  0.734218  0.690070  16198.807\n",
              "144   7/1/2012  0.377027  0.708024  0.652612  16220.667\n",
              "145  10/1/2012  0.373829  0.679787  0.666348  16239.138\n",
              "146   1/1/2013  0.396271  0.668803  0.727322  16382.964\n",
              "147   4/1/2013  0.420886  0.636061  0.734171  16403.180\n",
              "148   7/1/2013  0.455936  0.591678  0.887315  16531.685\n",
              "149  10/1/2013  0.496548  0.537731  0.906027  16663.649\n",
              "150   1/1/2014  0.529087  0.489363  0.899583  16616.540\n",
              "151   4/1/2014  0.527212  0.423186  0.853182  16841.475\n",
              "152   7/1/2014  0.564067  0.404061  0.799995  17047.098\n",
              "153  10/1/2014  0.579249  0.346130  0.739875  17143.038\n",
              "154   1/1/2015  0.608063  0.319105  0.647897  17277.580\n",
              "155   4/1/2015  0.634381  0.304276  0.693864  17405.669\n",
              "156   7/1/2015  0.620787  0.251854  0.688691  17463.222\n",
              "157  10/1/2015  0.630267  0.243296  0.644953  17468.902\n",
              "158   1/1/2016  0.580952  0.230234  0.577709  17556.839\n",
              "159   4/1/2016  0.610689  0.226665  0.553402  17639.417\n",
              "160   7/1/2016  0.652199  0.230164  0.518420  17735.074\n",
              "161  10/1/2016  0.670310  0.207713  0.590251  17824.231\n",
              "162   1/1/2017  0.725083  0.182697  0.608171  17925.256\n",
              "163   4/1/2017  0.771211  0.143822  0.549583  18021.048\n",
              "164   7/1/2017  0.803025  0.139491  0.528837  18163.558\n",
              "165  10/1/2017  0.856362  0.105156  0.479394  18322.464\n",
              "166   1/1/2018  0.920002  0.104185  0.460006  18438.254\n",
              "167   4/1/2018  0.933115  0.075982  0.422136  18598.135\n",
              "168   7/1/2018  0.999732  0.056164  0.376610  18732.720\n",
              "169  10/1/2018  0.915027  0.056025  0.371809  18783.548\n",
              "170   1/1/2019  0.931533  0.075324  0.354524  18927.281\n",
              "171   4/1/2019  1.000000  0.030490  0.365089  19023.022\n",
              "\n",
              "[172 rows x 5 columns]"
            ]
          },
          "metadata": {
            "tags": []
          },
          "execution_count": 231
        }
      ]
    },
    {
      "cell_type": "markdown",
      "metadata": {
        "id": "gCcsn6gjJeym",
        "colab_type": "text"
      },
      "source": [
        "**Applying Linear Regression and predicting result after data enrichment**"
      ]
    },
    {
      "cell_type": "markdown",
      "metadata": {
        "id": "QnWWSAZbVqPV",
        "colab_type": "text"
      },
      "source": [
        "**Prediction of NASDAQ index based on GDP factor**"
      ]
    },
    {
      "cell_type": "markdown",
      "metadata": {
        "id": "82TSgqk3LSCx",
        "colab_type": "text"
      },
      "source": [
        "**Scale GDP values**"
      ]
    },
    {
      "cell_type": "markdown",
      "metadata": {
        "id": "gB2jj0QyVyJF",
        "colab_type": "text"
      },
      "source": [
        "**Step 1:** Separate train and test data"
      ]
    },
    {
      "cell_type": "code",
      "metadata": {
        "id": "InGLw_3AVypu",
        "colab_type": "code",
        "colab": {
          "base_uri": "https://localhost:8080/",
          "height": 381
        },
        "outputId": "6c0a1c79-02d5-40be-ab36-498062f0a055"
      },
      "source": [
        "X = stock_reg_data[['GDP']]\n",
        "y = stock_reg_data[['NASDAQ']]\n",
        "\n",
        "#Import train_test_split from sklearn\n",
        "from sklearn.model_selection import train_test_split\n",
        "\n",
        "#Split X and y into X_\n",
        "X_train, X_test, y_train, y_test = train_test_split(X, y, test_size=0.2, random_state=1)"
      ],
      "execution_count": 230,
      "outputs": [
        {
          "output_type": "error",
          "ename": "KeyError",
          "evalue": "ignored",
          "traceback": [
            "\u001b[0;31m---------------------------------------------------------------------------\u001b[0m",
            "\u001b[0;31mKeyError\u001b[0m                                  Traceback (most recent call last)",
            "\u001b[0;32m<ipython-input-230-701d1cb9356c>\u001b[0m in \u001b[0;36m<module>\u001b[0;34m()\u001b[0m\n\u001b[0;32m----> 1\u001b[0;31m \u001b[0mX\u001b[0m \u001b[0;34m=\u001b[0m \u001b[0mstock_reg_data\u001b[0m\u001b[0;34m[\u001b[0m\u001b[0;34m[\u001b[0m\u001b[0;34m'GDP'\u001b[0m\u001b[0;34m]\u001b[0m\u001b[0;34m]\u001b[0m\u001b[0;34m\u001b[0m\u001b[0;34m\u001b[0m\u001b[0m\n\u001b[0m\u001b[1;32m      2\u001b[0m \u001b[0my\u001b[0m \u001b[0;34m=\u001b[0m \u001b[0mstock_reg_data\u001b[0m\u001b[0;34m[\u001b[0m\u001b[0;34m[\u001b[0m\u001b[0;34m'NASDAQ'\u001b[0m\u001b[0;34m]\u001b[0m\u001b[0;34m]\u001b[0m\u001b[0;34m\u001b[0m\u001b[0;34m\u001b[0m\u001b[0m\n\u001b[1;32m      3\u001b[0m \u001b[0;34m\u001b[0m\u001b[0m\n\u001b[1;32m      4\u001b[0m \u001b[0;31m#Import train_test_split from sklearn\u001b[0m\u001b[0;34m\u001b[0m\u001b[0;34m\u001b[0m\u001b[0;34m\u001b[0m\u001b[0m\n\u001b[1;32m      5\u001b[0m \u001b[0;32mfrom\u001b[0m \u001b[0msklearn\u001b[0m\u001b[0;34m.\u001b[0m\u001b[0mmodel_selection\u001b[0m \u001b[0;32mimport\u001b[0m \u001b[0mtrain_test_split\u001b[0m\u001b[0;34m\u001b[0m\u001b[0;34m\u001b[0m\u001b[0m\n",
            "\u001b[0;32m/usr/local/lib/python3.6/dist-packages/pandas/core/frame.py\u001b[0m in \u001b[0;36m__getitem__\u001b[0;34m(self, key)\u001b[0m\n\u001b[1;32m   2932\u001b[0m                 \u001b[0mkey\u001b[0m \u001b[0;34m=\u001b[0m \u001b[0mlist\u001b[0m\u001b[0;34m(\u001b[0m\u001b[0mkey\u001b[0m\u001b[0;34m)\u001b[0m\u001b[0;34m\u001b[0m\u001b[0;34m\u001b[0m\u001b[0m\n\u001b[1;32m   2933\u001b[0m             indexer = self.loc._convert_to_indexer(key, axis=1,\n\u001b[0;32m-> 2934\u001b[0;31m                                                    raise_missing=True)\n\u001b[0m\u001b[1;32m   2935\u001b[0m \u001b[0;34m\u001b[0m\u001b[0m\n\u001b[1;32m   2936\u001b[0m         \u001b[0;31m# take() does not accept boolean indexers\u001b[0m\u001b[0;34m\u001b[0m\u001b[0;34m\u001b[0m\u001b[0;34m\u001b[0m\u001b[0m\n",
            "\u001b[0;32m/usr/local/lib/python3.6/dist-packages/pandas/core/indexing.py\u001b[0m in \u001b[0;36m_convert_to_indexer\u001b[0;34m(self, obj, axis, is_setter, raise_missing)\u001b[0m\n\u001b[1;32m   1352\u001b[0m                 kwargs = {'raise_missing': True if is_setter else\n\u001b[1;32m   1353\u001b[0m                           raise_missing}\n\u001b[0;32m-> 1354\u001b[0;31m                 \u001b[0;32mreturn\u001b[0m \u001b[0mself\u001b[0m\u001b[0;34m.\u001b[0m\u001b[0m_get_listlike_indexer\u001b[0m\u001b[0;34m(\u001b[0m\u001b[0mobj\u001b[0m\u001b[0;34m,\u001b[0m \u001b[0maxis\u001b[0m\u001b[0;34m,\u001b[0m \u001b[0;34m**\u001b[0m\u001b[0mkwargs\u001b[0m\u001b[0;34m)\u001b[0m\u001b[0;34m[\u001b[0m\u001b[0;36m1\u001b[0m\u001b[0;34m]\u001b[0m\u001b[0;34m\u001b[0m\u001b[0;34m\u001b[0m\u001b[0m\n\u001b[0m\u001b[1;32m   1355\u001b[0m         \u001b[0;32melse\u001b[0m\u001b[0;34m:\u001b[0m\u001b[0;34m\u001b[0m\u001b[0;34m\u001b[0m\u001b[0m\n\u001b[1;32m   1356\u001b[0m             \u001b[0;32mtry\u001b[0m\u001b[0;34m:\u001b[0m\u001b[0;34m\u001b[0m\u001b[0;34m\u001b[0m\u001b[0m\n",
            "\u001b[0;32m/usr/local/lib/python3.6/dist-packages/pandas/core/indexing.py\u001b[0m in \u001b[0;36m_get_listlike_indexer\u001b[0;34m(self, key, axis, raise_missing)\u001b[0m\n\u001b[1;32m   1159\u001b[0m         self._validate_read_indexer(keyarr, indexer,\n\u001b[1;32m   1160\u001b[0m                                     \u001b[0mo\u001b[0m\u001b[0;34m.\u001b[0m\u001b[0m_get_axis_number\u001b[0m\u001b[0;34m(\u001b[0m\u001b[0maxis\u001b[0m\u001b[0;34m)\u001b[0m\u001b[0;34m,\u001b[0m\u001b[0;34m\u001b[0m\u001b[0;34m\u001b[0m\u001b[0m\n\u001b[0;32m-> 1161\u001b[0;31m                                     raise_missing=raise_missing)\n\u001b[0m\u001b[1;32m   1162\u001b[0m         \u001b[0;32mreturn\u001b[0m \u001b[0mkeyarr\u001b[0m\u001b[0;34m,\u001b[0m \u001b[0mindexer\u001b[0m\u001b[0;34m\u001b[0m\u001b[0;34m\u001b[0m\u001b[0m\n\u001b[1;32m   1163\u001b[0m \u001b[0;34m\u001b[0m\u001b[0m\n",
            "\u001b[0;32m/usr/local/lib/python3.6/dist-packages/pandas/core/indexing.py\u001b[0m in \u001b[0;36m_validate_read_indexer\u001b[0;34m(self, key, indexer, axis, raise_missing)\u001b[0m\n\u001b[1;32m   1244\u001b[0m                 raise KeyError(\n\u001b[1;32m   1245\u001b[0m                     u\"None of [{key}] are in the [{axis}]\".format(\n\u001b[0;32m-> 1246\u001b[0;31m                         key=key, axis=self.obj._get_axis_name(axis)))\n\u001b[0m\u001b[1;32m   1247\u001b[0m \u001b[0;34m\u001b[0m\u001b[0m\n\u001b[1;32m   1248\u001b[0m             \u001b[0;31m# We (temporarily) allow for some missing keys with .loc, except in\u001b[0m\u001b[0;34m\u001b[0m\u001b[0;34m\u001b[0m\u001b[0;34m\u001b[0m\u001b[0m\n",
            "\u001b[0;31mKeyError\u001b[0m: \"None of [Index(['GDP'], dtype='object')] are in the [columns]\""
          ]
        }
      ]
    },
    {
      "cell_type": "markdown",
      "metadata": {
        "id": "Dku4zTikV8GN",
        "colab_type": "text"
      },
      "source": [
        "**Step 2:** There are three steps to model the data with Linear Regression using sklearn"
      ]
    },
    {
      "cell_type": "code",
      "metadata": {
        "id": "ciO7k_eoV8jW",
        "colab_type": "code",
        "outputId": "676cb252-da88-41ba-e70d-76e43a8c4083",
        "colab": {
          "base_uri": "https://localhost:8080/",
          "height": 35
        }
      },
      "source": [
        "#Setup the model\n",
        "model = LinearRegression()\n",
        "\n",
        "#Use fit function\n",
        "model.fit(X_train, y_train)\n",
        "\n",
        "#Check the score\n",
        "#sc1 = model.score(X_test, y_test)\n",
        "#sc1"
      ],
      "execution_count": 0,
      "outputs": [
        {
          "output_type": "execute_result",
          "data": {
            "text/plain": [
              "LinearRegression(copy_X=True, fit_intercept=True, n_jobs=None, normalize=False)"
            ]
          },
          "metadata": {
            "tags": []
          },
          "execution_count": 35
        }
      ]
    },
    {
      "cell_type": "code",
      "metadata": {
        "id": "uWWaPwHaZSMC",
        "colab_type": "code",
        "outputId": "7c38f7ce-bd62-4d76-d6a4-ba47fc7c37e9",
        "colab": {
          "base_uri": "https://localhost:8080/",
          "height": 35
        }
      },
      "source": [
        "for idx, col_name in enumerate(X_train.columns):\n",
        "    print(\"The coefficient for {} is {}\".format(col_name, model.coef_[0][idx]))"
      ],
      "execution_count": 0,
      "outputs": [
        {
          "output_type": "stream",
          "text": [
            "The coefficient for GDP is 0.71982416068565\n"
          ],
          "name": "stdout"
        }
      ]
    },
    {
      "cell_type": "code",
      "metadata": {
        "id": "M_DC3-mKZgTw",
        "colab_type": "code",
        "outputId": "de8065d1-4593-4b8b-f584-5bced7532680",
        "colab": {
          "base_uri": "https://localhost:8080/",
          "height": 35
        }
      },
      "source": [
        "sc1 = model.score(X_test, y_test)\n",
        "sc1"
      ],
      "execution_count": 0,
      "outputs": [
        {
          "output_type": "execute_result",
          "data": {
            "text/plain": [
              "0.7763416920738692"
            ]
          },
          "metadata": {
            "tags": []
          },
          "execution_count": 37
        }
      ]
    },
    {
      "cell_type": "code",
      "metadata": {
        "id": "Jvxp_NavWNeQ",
        "colab_type": "code",
        "outputId": "afbbc5e8-9776-4b04-f7b3-7b41106cc32a",
        "colab": {
          "base_uri": "https://localhost:8080/",
          "height": 1000
        }
      },
      "source": [
        "#Print X_test values\n",
        "X_test"
      ],
      "execution_count": 0,
      "outputs": [
        {
          "output_type": "execute_result",
          "data": {
            "text/html": [
              "<div>\n",
              "<style scoped>\n",
              "    .dataframe tbody tr th:only-of-type {\n",
              "        vertical-align: middle;\n",
              "    }\n",
              "\n",
              "    .dataframe tbody tr th {\n",
              "        vertical-align: top;\n",
              "    }\n",
              "\n",
              "    .dataframe thead th {\n",
              "        text-align: right;\n",
              "    }\n",
              "</style>\n",
              "<table border=\"1\" class=\"dataframe\">\n",
              "  <thead>\n",
              "    <tr style=\"text-align: right;\">\n",
              "      <th></th>\n",
              "      <th>GDP</th>\n",
              "    </tr>\n",
              "  </thead>\n",
              "  <tbody>\n",
              "    <tr>\n",
              "      <th>92</th>\n",
              "      <td>0.512884</td>\n",
              "    </tr>\n",
              "    <tr>\n",
              "      <th>113</th>\n",
              "      <td>0.662029</td>\n",
              "    </tr>\n",
              "    <tr>\n",
              "      <th>19</th>\n",
              "      <td>0.071245</td>\n",
              "    </tr>\n",
              "    <tr>\n",
              "      <th>69</th>\n",
              "      <td>0.315964</td>\n",
              "    </tr>\n",
              "    <tr>\n",
              "      <th>53</th>\n",
              "      <td>0.252100</td>\n",
              "    </tr>\n",
              "    <tr>\n",
              "      <th>162</th>\n",
              "      <td>0.915930</td>\n",
              "    </tr>\n",
              "    <tr>\n",
              "      <th>108</th>\n",
              "      <td>0.614180</td>\n",
              "    </tr>\n",
              "    <tr>\n",
              "      <th>14</th>\n",
              "      <td>0.066809</td>\n",
              "    </tr>\n",
              "    <tr>\n",
              "      <th>99</th>\n",
              "      <td>0.561714</td>\n",
              "    </tr>\n",
              "    <tr>\n",
              "      <th>107</th>\n",
              "      <td>0.596295</td>\n",
              "    </tr>\n",
              "    <tr>\n",
              "      <th>11</th>\n",
              "      <td>0.060025</td>\n",
              "    </tr>\n",
              "    <tr>\n",
              "      <th>4</th>\n",
              "      <td>0.026364</td>\n",
              "    </tr>\n",
              "    <tr>\n",
              "      <th>117</th>\n",
              "      <td>0.697006</td>\n",
              "    </tr>\n",
              "    <tr>\n",
              "      <th>42</th>\n",
              "      <td>0.184156</td>\n",
              "    </tr>\n",
              "    <tr>\n",
              "      <th>122</th>\n",
              "      <td>0.729686</td>\n",
              "    </tr>\n",
              "    <tr>\n",
              "      <th>125</th>\n",
              "      <td>0.750259</td>\n",
              "    </tr>\n",
              "    <tr>\n",
              "      <th>147</th>\n",
              "      <td>0.799365</td>\n",
              "    </tr>\n",
              "    <tr>\n",
              "      <th>35</th>\n",
              "      <td>0.147642</td>\n",
              "    </tr>\n",
              "    <tr>\n",
              "      <th>81</th>\n",
              "      <td>0.401826</td>\n",
              "    </tr>\n",
              "    <tr>\n",
              "      <th>31</th>\n",
              "      <td>0.126163</td>\n",
              "    </tr>\n",
              "    <tr>\n",
              "      <th>51</th>\n",
              "      <td>0.245503</td>\n",
              "    </tr>\n",
              "    <tr>\n",
              "      <th>75</th>\n",
              "      <td>0.353034</td>\n",
              "    </tr>\n",
              "    <tr>\n",
              "      <th>78</th>\n",
              "      <td>0.371628</td>\n",
              "    </tr>\n",
              "    <tr>\n",
              "      <th>73</th>\n",
              "      <td>0.347771</td>\n",
              "    </tr>\n",
              "    <tr>\n",
              "      <th>40</th>\n",
              "      <td>0.176016</td>\n",
              "    </tr>\n",
              "    <tr>\n",
              "      <th>84</th>\n",
              "      <td>0.432721</td>\n",
              "    </tr>\n",
              "    <tr>\n",
              "      <th>47</th>\n",
              "      <td>0.220128</td>\n",
              "    </tr>\n",
              "    <tr>\n",
              "      <th>29</th>\n",
              "      <td>0.105273</td>\n",
              "    </tr>\n",
              "    <tr>\n",
              "      <th>16</th>\n",
              "      <td>0.055410</td>\n",
              "    </tr>\n",
              "    <tr>\n",
              "      <th>105</th>\n",
              "      <td>0.581552</td>\n",
              "    </tr>\n",
              "    <tr>\n",
              "      <th>85</th>\n",
              "      <td>0.440361</td>\n",
              "    </tr>\n",
              "    <tr>\n",
              "      <th>154</th>\n",
              "      <td>0.866329</td>\n",
              "    </tr>\n",
              "    <tr>\n",
              "      <th>158</th>\n",
              "      <td>0.887716</td>\n",
              "    </tr>\n",
              "    <tr>\n",
              "      <th>5</th>\n",
              "      <td>0.026374</td>\n",
              "    </tr>\n",
              "    <tr>\n",
              "      <th>94</th>\n",
              "      <td>0.532933</td>\n",
              "    </tr>\n",
              "  </tbody>\n",
              "</table>\n",
              "</div>"
            ],
            "text/plain": [
              "          GDP\n",
              "92   0.512884\n",
              "113  0.662029\n",
              "19   0.071245\n",
              "69   0.315964\n",
              "53   0.252100\n",
              "162  0.915930\n",
              "108  0.614180\n",
              "14   0.066809\n",
              "99   0.561714\n",
              "107  0.596295\n",
              "11   0.060025\n",
              "4    0.026364\n",
              "117  0.697006\n",
              "42   0.184156\n",
              "122  0.729686\n",
              "125  0.750259\n",
              "147  0.799365\n",
              "35   0.147642\n",
              "81   0.401826\n",
              "31   0.126163\n",
              "51   0.245503\n",
              "75   0.353034\n",
              "78   0.371628\n",
              "73   0.347771\n",
              "40   0.176016\n",
              "84   0.432721\n",
              "47   0.220128\n",
              "29   0.105273\n",
              "16   0.055410\n",
              "105  0.581552\n",
              "85   0.440361\n",
              "154  0.866329\n",
              "158  0.887716\n",
              "5    0.026374\n",
              "94   0.532933"
            ]
          },
          "metadata": {
            "tags": []
          },
          "execution_count": 38
        }
      ]
    },
    {
      "cell_type": "markdown",
      "metadata": {
        "id": "QR1Wp_q7WStF",
        "colab_type": "text"
      },
      "source": [
        "**Step 3:** After fitting the model, get the co-efficients"
      ]
    },
    {
      "cell_type": "code",
      "metadata": {
        "id": "2vacTvSPWTXO",
        "colab_type": "code",
        "outputId": "2110e263-e293-406b-cfb8-9880baa6bbcb",
        "colab": {
          "base_uri": "https://localhost:8080/",
          "height": 35
        }
      },
      "source": [
        "model.coef_    #Get the coefficients, beta"
      ],
      "execution_count": 0,
      "outputs": [
        {
          "output_type": "execute_result",
          "data": {
            "text/plain": [
              "array([[0.71982416]])"
            ]
          },
          "metadata": {
            "tags": []
          },
          "execution_count": 39
        }
      ]
    },
    {
      "cell_type": "markdown",
      "metadata": {
        "id": "KlpWwXLpWj_e",
        "colab_type": "text"
      },
      "source": [
        "**Step 4:** Get the intercept"
      ]
    },
    {
      "cell_type": "code",
      "metadata": {
        "id": "-2YZrO0WWkgg",
        "colab_type": "code",
        "outputId": "8c6c7675-e6ef-4751-f30b-8d7c7f50d130",
        "colab": {
          "base_uri": "https://localhost:8080/",
          "height": 35
        }
      },
      "source": [
        "model.intercept_  #Get the intercept, c"
      ],
      "execution_count": 0,
      "outputs": [
        {
          "output_type": "execute_result",
          "data": {
            "text/plain": [
              "array([-0.10390048])"
            ]
          },
          "metadata": {
            "tags": []
          },
          "execution_count": 40
        }
      ]
    },
    {
      "cell_type": "code",
      "metadata": {
        "id": "1jiYMoYHZpLB",
        "colab_type": "code",
        "outputId": "025f5533-e47a-4e6b-a313-988fdb0c2ede",
        "colab": {
          "base_uri": "https://localhost:8080/",
          "height": 69
        }
      },
      "source": [
        "y_predict = model.predict(X_test) \n",
        "from sklearn.metrics import mean_squared_error, mean_squared_log_error, mean_absolute_error\n",
        "print('Mean Absolute Error:', mean_absolute_error(y_test, y_predict))  \n",
        "print('Mean Squared Error:', mean_squared_error(y_test, y_predict))  \n",
        "print('Root Mean Squared Error:', np.sqrt(mean_squared_error(y_test, y_predict)))"
      ],
      "execution_count": 0,
      "outputs": [
        {
          "output_type": "stream",
          "text": [
            "Mean Absolute Error: 0.07284112886771155\n",
            "Mean Squared Error: 0.008330573168917617\n",
            "Root Mean Squared Error: 0.09127197362234267\n"
          ],
          "name": "stdout"
        }
      ]
    },
    {
      "cell_type": "markdown",
      "metadata": {
        "id": "FIRBN2uuWunT",
        "colab_type": "text"
      },
      "source": [
        "**Step 5:** Predict unknown data"
      ]
    },
    {
      "cell_type": "code",
      "metadata": {
        "id": "1wg7Zr6aWvKT",
        "colab_type": "code",
        "outputId": "1ae8a6d0-bec6-4119-d386-9d53fb2e7a99",
        "colab": {
          "base_uri": "https://localhost:8080/",
          "height": 624
        }
      },
      "source": [
        "y_pred = model.predict(X_test) \n",
        "y_pred"
      ],
      "execution_count": 0,
      "outputs": [
        {
          "output_type": "execute_result",
          "data": {
            "text/plain": [
              "array([[ 0.26528611],\n",
              "       [ 0.37264383],\n",
              "       [-0.05261693],\n",
              "       [ 0.1235382 ],\n",
              "       [ 0.07756733],\n",
              "       [ 0.55540804],\n",
              "       [ 0.33820084],\n",
              "       [-0.05580973],\n",
              "       [ 0.3004345 ],\n",
              "       [ 0.32532722],\n",
              "       [-0.0606927 ],\n",
              "       [-0.08492335],\n",
              "       [ 0.39782111],\n",
              "       [ 0.0286595 ],\n",
              "       [ 0.42134516],\n",
              "       [ 0.4361542 ],\n",
              "       [ 0.47150182],\n",
              "       [ 0.00237567],\n",
              "       [ 0.18534324],\n",
              "       [-0.01308546],\n",
              "       [ 0.07281815],\n",
              "       [ 0.15022208],\n",
              "       [ 0.16360649],\n",
              "       [ 0.14643337],\n",
              "       [ 0.02280008],\n",
              "       [ 0.20758284],\n",
              "       [ 0.05455286],\n",
              "       [-0.0281225 ],\n",
              "       [-0.0640151 ],\n",
              "       [ 0.31471483],\n",
              "       [ 0.21308206],\n",
              "       [ 0.51970414],\n",
              "       [ 0.53509862],\n",
              "       [-0.08491574],\n",
              "       [ 0.27971781]])"
            ]
          },
          "metadata": {
            "tags": []
          },
          "execution_count": 42
        }
      ]
    },
    {
      "cell_type": "markdown",
      "metadata": {
        "id": "hlEAUcLmW4C5",
        "colab_type": "text"
      },
      "source": [
        "**Step 6:** Visualizing the Training results"
      ]
    },
    {
      "cell_type": "code",
      "metadata": {
        "id": "AqoqLYjNW4hD",
        "colab_type": "code",
        "outputId": "6414dff2-0f43-450d-c15f-282a08c4e055",
        "colab": {
          "base_uri": "https://localhost:8080/",
          "height": 295
        }
      },
      "source": [
        "y_pred = model.predict(X_test) \n",
        "\n",
        "#Visualizing the Training Results \n",
        "\n",
        "plt.scatter(X_train, y_train, color= 'purple')\n",
        "plt.plot(X_train, model.predict(X_train), color = 'blue', linewidth=2)\n",
        "plt.title (\"Visualization for Training Dataset\")\n",
        "plt.xlabel(\"GDP\")\n",
        "plt.ylabel(\"NASDAQ\")\n",
        "plt.show()"
      ],
      "execution_count": 0,
      "outputs": [
        {
          "output_type": "display_data",
          "data": {
            "image/png": "[encoded data removed]",
            "text/plain": [
              "<Figure size 432x288 with 1 Axes>"
            ]
          },
          "metadata": {
            "tags": []
          }
        }
      ]
    },
    {
      "cell_type": "markdown",
      "metadata": {
        "id": "Vkp5KQXsXGkZ",
        "colab_type": "text"
      },
      "source": [
        "**Step 7:** Visualizing the Test results"
      ]
    },
    {
      "cell_type": "code",
      "metadata": {
        "id": "x42irPmcXHKn",
        "colab_type": "code",
        "outputId": "5a773142-73e7-4fb2-af48-688d8d259e3a",
        "colab": {
          "base_uri": "https://localhost:8080/",
          "height": 295
        }
      },
      "source": [
        "#Visualizing the Test Results \n",
        "\n",
        "plt.scatter(X_test, y_test, color= 'black')\n",
        "plt.plot(X_test, y_pred, color='blue', linewidth=2)\n",
        "plt.title (\"Visualization for Test Dataset\")\n",
        "\n",
        "plt.xlabel(\"GDP\")\n",
        "plt.ylabel(\"NASDAQ\")\n",
        "\n",
        "plt.show()"
      ],
      "execution_count": 0,
      "outputs": [
        {
          "output_type": "display_data",
          "data": {
            "image/png": "[encoded data removed]",
            "text/plain": [
              "<Figure size 432x288 with 1 Axes>"
            ]
          },
          "metadata": {
            "tags": []
          }
        }
      ]
    },
    {
      "cell_type": "markdown",
      "metadata": {
        "id": "BpAfw1yU32qM",
        "colab_type": "text"
      },
      "source": [
        "**Question:**\n",
        "How does this improve the interpretability of your model? How does it add value to your business case?\n",
        "\n",
        "-> After running Linear Regression on the newly added feature 'GDP' from merged dataset, the accuracy of the model is improved which is 0.78 and also the mean squared error is low - 0.008.\n",
        "It is clearly interpreted from the model that whenever GDP goes down, NASDAQ index also goes down which indicates the probability of upcoming recession.\n",
        "This adds value to our business case as we can predict clearly when the recession will occur from the GDP and NASDAQ growth trend."
      ]
    }
  ]
}
