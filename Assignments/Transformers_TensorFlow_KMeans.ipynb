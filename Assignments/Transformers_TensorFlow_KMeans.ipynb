{
  "nbformat": 4,
  "nbformat_minor": 0,
  "metadata": {
    "colab": {
      "name": "Snehal_TensorFlow_K-Means.ipynb",
      "provenance": [],
      "collapsed_sections": []
    },
    "kernelspec": {
      "name": "python3",
      "display_name": "Python 3"
    }
  }, 
  "cells": [
    {
      "cell_type": "markdown",
      "metadata": {
        "id": "SmQn7rhvvwG_",
        "colab_type": "text"
      },
      "source": [
        "Implementation of K-Means algorithm with TensorFlow"
      ]
    },
    {
      "cell_type": "markdown",
      "metadata": {
        "id": "OEt6KECCvy-H",
        "colab_type": "text"
      },
      "source": [
        "Code snippet to mount the google drive on colab"
      ]
    },
    {
      "cell_type": "code",
      "metadata": {
        "id": "PA8FW6f-v1Zj",
        "colab_type": "code",
        "outputId": "bfa51928-8e0c-414e-a122-3e329bfab447",
        "colab": {
          "base_uri": "https://localhost:8080/",
          "height": 124
        }
      },
      "source": [
        "from google.colab import drive\n",
        "drive.mount('/content/drive')"
      ],
      "execution_count": 0,
      "outputs": [
        {
          "output_type": "stream",
          "text": [
            "Go to this URL in a browser: https://accounts.google.com/o/oauth2/auth?client_id=947318989803-6bn6qk8qdgf4n4g3pfee6491hc0brc4i.apps.googleusercontent.com&redirect_uri=urn%3Aietf%3Awg%3Aoauth%3A2.0%3Aoob&scope=email%20https%3A%2F%2Fwww.googleapis.com%2Fauth%2Fdocs.test%20https%3A%2F%2Fwww.googleapis.com%2Fauth%2Fdrive%20https%3A%2F%2Fwww.googleapis.com%2Fauth%2Fdrive.photos.readonly%20https%3A%2F%2Fwww.googleapis.com%2Fauth%2Fpeopleapi.readonly&response_type=code\n",
            "\n",
            "Enter your authorization code:\n",
            "··········\n",
            "Mounted at /content/drive\n"
          ],
          "name": "stdout"
        }
      ]
    },
    {
      "cell_type": "markdown",
      "metadata": {
        "id": "yWdIbfrKwE2D",
        "colab_type": "text"
      },
      "source": [
        "Mention the location of your dataset on google drive"
      ]
    },
    {
      "cell_type": "code",
      "metadata": {
        "id": "5ptYIms2wFmC",
        "colab_type": "code",
        "outputId": "ef95d439-7e31-4e4f-8a7d-114e1bb76ff1",
        "colab": {
          "base_uri": "https://localhost:8080/",
          "height": 35
        }
      },
      "source": [
        "cd '/content/drive/My Drive/DataSets'\n"
      ],
      "execution_count": 0,
      "outputs": [
        {
          "output_type": "stream",
          "text": [
            "/content/drive/My Drive/DataSets\n"
          ],
          "name": "stdout"
        }
      ]
    },
    {
      "cell_type": "markdown",
      "metadata": {
        "id": "ESsVVOCDwj5X",
        "colab_type": "text"
      },
      "source": [
        "Importing required libraries for k-means clustering"
      ]
    },
    {
      "cell_type": "code",
      "metadata": {
        "id": "tPSPV29Rwkjx",
        "colab_type": "code",
        "colab": {}
      },
      "source": [
        "import pandas as pd\n",
        "import numpy as np\n",
        "import seaborn as sns\n",
        "import tensorflow as tf\n",
        "import matplotlib.pyplot as plt"
      ],
      "execution_count": 0,
      "outputs": []
    },
    {
      "cell_type": "markdown",
      "metadata": {
        "id": "VMBScNs4wnsf",
        "colab_type": "text"
      },
      "source": [
        "Code to read the dataset csv file and print the first few records"
      ]
    },
    {
      "cell_type": "code",
      "metadata": {
        "id": "dC2EwoJkwrY8",
        "colab_type": "code",
        "outputId": "66e51220-c94a-41ab-808a-391bb6e43d8e",
        "colab": {
          "base_uri": "https://localhost:8080/",
          "height": 202
        }
      },
      "source": [
        "data_records = pd.read_csv(\"/content/drive/My Drive/DataSets/data.csv\")\n",
        "data_records.head()"
      ],
      "execution_count": 0,
      "outputs": [
        {
          "output_type": "execute_result",
          "data": {
            "text/html": [
              "<div>\n",
              "<style scoped>\n",
              "    .dataframe tbody tr th:only-of-type {\n",
              "        vertical-align: middle;\n",
              "    }\n",
              "\n",
              "    .dataframe tbody tr th {\n",
              "        vertical-align: top;\n",
              "    }\n",
              "\n",
              "    .dataframe thead th {\n",
              "        text-align: right;\n",
              "    }\n",
              "</style>\n",
              "<table border=\"1\" class=\"dataframe\">\n",
              "  <thead>\n",
              "    <tr style=\"text-align: right;\">\n",
              "      <th></th>\n",
              "      <th>DATE</th>\n",
              "      <th>T10Y2Y</th>\n",
              "      <th>NASDAQCOM_PCH</th>\n",
              "    </tr>\n",
              "  </thead>\n",
              "  <tbody>\n",
              "    <tr>\n",
              "      <th>0</th>\n",
              "      <td>6/2/76</td>\n",
              "      <td>0.71</td>\n",
              "      <td>0.39859</td>\n",
              "    </tr>\n",
              "    <tr>\n",
              "      <th>1</th>\n",
              "      <td>6/3/76</td>\n",
              "      <td>0.70</td>\n",
              "      <td>0.11343</td>\n",
              "    </tr>\n",
              "    <tr>\n",
              "      <th>2</th>\n",
              "      <td>6/4/76</td>\n",
              "      <td>0.77</td>\n",
              "      <td>-0.57784</td>\n",
              "    </tr>\n",
              "    <tr>\n",
              "      <th>3</th>\n",
              "      <td>6/7/76</td>\n",
              "      <td>0.79</td>\n",
              "      <td>-0.60399</td>\n",
              "    </tr>\n",
              "    <tr>\n",
              "      <th>4</th>\n",
              "      <td>6/8/76</td>\n",
              "      <td>0.79</td>\n",
              "      <td>-0.11465</td>\n",
              "    </tr>\n",
              "  </tbody>\n",
              "</table>\n",
              "</div>"
            ],
            "text/plain": [
              "     DATE  T10Y2Y  NASDAQCOM_PCH\n",
              "0  6/2/76    0.71        0.39859\n",
              "1  6/3/76    0.70        0.11343\n",
              "2  6/4/76    0.77       -0.57784\n",
              "3  6/7/76    0.79       -0.60399\n",
              "4  6/8/76    0.79       -0.11465"
            ]
          },
          "metadata": {
            "tags": []
          },
          "execution_count": 4
        }
      ]
    },
    {
      "cell_type": "markdown",
      "metadata": {
        "id": "6_TMv-zFwug_",
        "colab_type": "text"
      },
      "source": [
        "Print entire dataset"
      ]
    },
    {
      "cell_type": "code",
      "metadata": {
        "id": "G59gwBvxwxvn",
        "colab_type": "code",
        "outputId": "12233ed3-df7d-4a0c-84a8-7e4693fa754c",
        "colab": {
          "base_uri": "https://localhost:8080/",
          "height": 1000
        }
      },
      "source": [
        "data_records"
      ],
      "execution_count": 0,
      "outputs": [
        {
          "output_type": "execute_result",
          "data": {
            "text/html": [
              "<div>\n",
              "<style scoped>\n",
              "    .dataframe tbody tr th:only-of-type {\n",
              "        vertical-align: middle;\n",
              "    }\n",
              "\n",
              "    .dataframe tbody tr th {\n",
              "        vertical-align: top;\n",
              "    }\n",
              "\n",
              "    .dataframe thead th {\n",
              "        text-align: right;\n",
              "    }\n",
              "</style>\n",
              "<table border=\"1\" class=\"dataframe\">\n",
              "  <thead>\n",
              "    <tr style=\"text-align: right;\">\n",
              "      <th></th>\n",
              "      <th>DATE</th>\n",
              "      <th>T10Y2Y</th>\n",
              "      <th>NASDAQCOM_PCH</th>\n",
              "    </tr>\n",
              "  </thead>\n",
              "  <tbody>\n",
              "    <tr>\n",
              "      <th>0</th>\n",
              "      <td>6/2/76</td>\n",
              "      <td>0.71</td>\n",
              "      <td>0.39859</td>\n",
              "    </tr>\n",
              "    <tr>\n",
              "      <th>1</th>\n",
              "      <td>6/3/76</td>\n",
              "      <td>0.70</td>\n",
              "      <td>0.11343</td>\n",
              "    </tr>\n",
              "    <tr>\n",
              "      <th>2</th>\n",
              "      <td>6/4/76</td>\n",
              "      <td>0.77</td>\n",
              "      <td>-0.57784</td>\n",
              "    </tr>\n",
              "    <tr>\n",
              "      <th>3</th>\n",
              "      <td>6/7/76</td>\n",
              "      <td>0.79</td>\n",
              "      <td>-0.60399</td>\n",
              "    </tr>\n",
              "    <tr>\n",
              "      <th>4</th>\n",
              "      <td>6/8/76</td>\n",
              "      <td>0.79</td>\n",
              "      <td>-0.11465</td>\n",
              "    </tr>\n",
              "    <tr>\n",
              "      <th>5</th>\n",
              "      <td>6/9/76</td>\n",
              "      <td>0.82</td>\n",
              "      <td>-0.19513</td>\n",
              "    </tr>\n",
              "    <tr>\n",
              "      <th>6</th>\n",
              "      <td>6/10/76</td>\n",
              "      <td>0.86</td>\n",
              "      <td>0.41403</td>\n",
              "    </tr>\n",
              "    <tr>\n",
              "      <th>7</th>\n",
              "      <td>6/11/76</td>\n",
              "      <td>0.83</td>\n",
              "      <td>0.45814</td>\n",
              "    </tr>\n",
              "    <tr>\n",
              "      <th>8</th>\n",
              "      <td>6/14/76</td>\n",
              "      <td>0.83</td>\n",
              "      <td>0.78668</td>\n",
              "    </tr>\n",
              "    <tr>\n",
              "      <th>9</th>\n",
              "      <td>6/15/76</td>\n",
              "      <td>0.83</td>\n",
              "      <td>0.05656</td>\n",
              "    </tr>\n",
              "    <tr>\n",
              "      <th>10</th>\n",
              "      <td>6/16/76</td>\n",
              "      <td>0.81</td>\n",
              "      <td>0.54268</td>\n",
              "    </tr>\n",
              "    <tr>\n",
              "      <th>11</th>\n",
              "      <td>6/17/76</td>\n",
              "      <td>0.79</td>\n",
              "      <td>0.88834</td>\n",
              "    </tr>\n",
              "    <tr>\n",
              "      <th>12</th>\n",
              "      <td>6/18/76</td>\n",
              "      <td>0.82</td>\n",
              "      <td>0.36781</td>\n",
              "    </tr>\n",
              "    <tr>\n",
              "      <th>13</th>\n",
              "      <td>6/21/76</td>\n",
              "      <td>0.85</td>\n",
              "      <td>0.11105</td>\n",
              "    </tr>\n",
              "    <tr>\n",
              "      <th>14</th>\n",
              "      <td>6/22/76</td>\n",
              "      <td>0.80</td>\n",
              "      <td>-0.67665</td>\n",
              "    </tr>\n",
              "    <tr>\n",
              "      <th>15</th>\n",
              "      <td>6/23/76</td>\n",
              "      <td>0.80</td>\n",
              "      <td>-0.39089</td>\n",
              "    </tr>\n",
              "    <tr>\n",
              "      <th>16</th>\n",
              "      <td>6/24/76</td>\n",
              "      <td>0.82</td>\n",
              "      <td>0.68393</td>\n",
              "    </tr>\n",
              "    <tr>\n",
              "      <th>17</th>\n",
              "      <td>6/25/76</td>\n",
              "      <td>0.81</td>\n",
              "      <td>0.27840</td>\n",
              "    </tr>\n",
              "    <tr>\n",
              "      <th>18</th>\n",
              "      <td>6/28/76</td>\n",
              "      <td>0.84</td>\n",
              "      <td>-0.19989</td>\n",
              "    </tr>\n",
              "    <tr>\n",
              "      <th>19</th>\n",
              "      <td>6/29/76</td>\n",
              "      <td>0.84</td>\n",
              "      <td>0.26705</td>\n",
              "    </tr>\n",
              "    <tr>\n",
              "      <th>20</th>\n",
              "      <td>6/30/76</td>\n",
              "      <td>0.84</td>\n",
              "      <td>0.23305</td>\n",
              "    </tr>\n",
              "    <tr>\n",
              "      <th>21</th>\n",
              "      <td>7/1/76</td>\n",
              "      <td>0.86</td>\n",
              "      <td>-0.04429</td>\n",
              "    </tr>\n",
              "    <tr>\n",
              "      <th>22</th>\n",
              "      <td>7/2/76</td>\n",
              "      <td>0.85</td>\n",
              "      <td>0.66460</td>\n",
              "    </tr>\n",
              "    <tr>\n",
              "      <th>23</th>\n",
              "      <td>7/7/76</td>\n",
              "      <td>0.85</td>\n",
              "      <td>-0.02207</td>\n",
              "    </tr>\n",
              "    <tr>\n",
              "      <th>24</th>\n",
              "      <td>7/8/76</td>\n",
              "      <td>0.90</td>\n",
              "      <td>0.20971</td>\n",
              "    </tr>\n",
              "    <tr>\n",
              "      <th>25</th>\n",
              "      <td>7/9/76</td>\n",
              "      <td>1.01</td>\n",
              "      <td>0.76000</td>\n",
              "    </tr>\n",
              "    <tr>\n",
              "      <th>26</th>\n",
              "      <td>7/12/76</td>\n",
              "      <td>1.04</td>\n",
              "      <td>0.50284</td>\n",
              "    </tr>\n",
              "    <tr>\n",
              "      <th>27</th>\n",
              "      <td>7/13/76</td>\n",
              "      <td>1.03</td>\n",
              "      <td>0.03263</td>\n",
              "    </tr>\n",
              "    <tr>\n",
              "      <th>28</th>\n",
              "      <td>7/14/76</td>\n",
              "      <td>1.03</td>\n",
              "      <td>0.51104</td>\n",
              "    </tr>\n",
              "    <tr>\n",
              "      <th>29</th>\n",
              "      <td>7/15/76</td>\n",
              "      <td>1.05</td>\n",
              "      <td>0.08654</td>\n",
              "    </tr>\n",
              "    <tr>\n",
              "      <th>...</th>\n",
              "      <td>...</td>\n",
              "      <td>...</td>\n",
              "      <td>...</td>\n",
              "    </tr>\n",
              "    <tr>\n",
              "      <th>10409</th>\n",
              "      <td>8/1/19</td>\n",
              "      <td>0.17</td>\n",
              "      <td>-0.78647</td>\n",
              "    </tr>\n",
              "    <tr>\n",
              "      <th>10410</th>\n",
              "      <td>8/2/19</td>\n",
              "      <td>0.14</td>\n",
              "      <td>-1.31976</td>\n",
              "    </tr>\n",
              "    <tr>\n",
              "      <th>10411</th>\n",
              "      <td>8/5/19</td>\n",
              "      <td>0.16</td>\n",
              "      <td>-3.47367</td>\n",
              "    </tr>\n",
              "    <tr>\n",
              "      <th>10412</th>\n",
              "      <td>8/6/19</td>\n",
              "      <td>0.13</td>\n",
              "      <td>1.38787</td>\n",
              "    </tr>\n",
              "    <tr>\n",
              "      <th>10413</th>\n",
              "      <td>8/7/19</td>\n",
              "      <td>0.12</td>\n",
              "      <td>0.37734</td>\n",
              "    </tr>\n",
              "    <tr>\n",
              "      <th>10414</th>\n",
              "      <td>8/8/19</td>\n",
              "      <td>0.10</td>\n",
              "      <td>2.24260</td>\n",
              "    </tr>\n",
              "    <tr>\n",
              "      <th>10415</th>\n",
              "      <td>8/9/19</td>\n",
              "      <td>0.11</td>\n",
              "      <td>-0.99532</td>\n",
              "    </tr>\n",
              "    <tr>\n",
              "      <th>10416</th>\n",
              "      <td>8/12/19</td>\n",
              "      <td>0.07</td>\n",
              "      <td>-1.20278</td>\n",
              "    </tr>\n",
              "    <tr>\n",
              "      <th>10417</th>\n",
              "      <td>8/13/19</td>\n",
              "      <td>0.02</td>\n",
              "      <td>1.94507</td>\n",
              "    </tr>\n",
              "    <tr>\n",
              "      <th>10418</th>\n",
              "      <td>8/14/19</td>\n",
              "      <td>0.01</td>\n",
              "      <td>-3.02408</td>\n",
              "    </tr>\n",
              "    <tr>\n",
              "      <th>10419</th>\n",
              "      <td>8/15/19</td>\n",
              "      <td>0.04</td>\n",
              "      <td>-0.09417</td>\n",
              "    </tr>\n",
              "    <tr>\n",
              "      <th>10420</th>\n",
              "      <td>8/16/19</td>\n",
              "      <td>0.07</td>\n",
              "      <td>1.66578</td>\n",
              "    </tr>\n",
              "    <tr>\n",
              "      <th>10421</th>\n",
              "      <td>8/19/19</td>\n",
              "      <td>0.07</td>\n",
              "      <td>1.35285</td>\n",
              "    </tr>\n",
              "    <tr>\n",
              "      <th>10422</th>\n",
              "      <td>8/20/19</td>\n",
              "      <td>0.05</td>\n",
              "      <td>-0.67794</td>\n",
              "    </tr>\n",
              "    <tr>\n",
              "      <th>10423</th>\n",
              "      <td>8/21/19</td>\n",
              "      <td>0.03</td>\n",
              "      <td>0.90140</td>\n",
              "    </tr>\n",
              "    <tr>\n",
              "      <th>10424</th>\n",
              "      <td>8/22/19</td>\n",
              "      <td>0.01</td>\n",
              "      <td>-0.35934</td>\n",
              "    </tr>\n",
              "    <tr>\n",
              "      <th>10425</th>\n",
              "      <td>8/23/19</td>\n",
              "      <td>0.01</td>\n",
              "      <td>-2.99849</td>\n",
              "    </tr>\n",
              "    <tr>\n",
              "      <th>10426</th>\n",
              "      <td>8/26/19</td>\n",
              "      <td>0.00</td>\n",
              "      <td>1.31542</td>\n",
              "    </tr>\n",
              "    <tr>\n",
              "      <th>10427</th>\n",
              "      <td>8/27/19</td>\n",
              "      <td>-0.04</td>\n",
              "      <td>-0.34110</td>\n",
              "    </tr>\n",
              "    <tr>\n",
              "      <th>10428</th>\n",
              "      <td>8/28/19</td>\n",
              "      <td>-0.03</td>\n",
              "      <td>0.38250</td>\n",
              "    </tr>\n",
              "    <tr>\n",
              "      <th>10429</th>\n",
              "      <td>8/29/19</td>\n",
              "      <td>-0.03</td>\n",
              "      <td>1.48293</td>\n",
              "    </tr>\n",
              "    <tr>\n",
              "      <th>10430</th>\n",
              "      <td>8/30/19</td>\n",
              "      <td>0.00</td>\n",
              "      <td>-0.13184</td>\n",
              "    </tr>\n",
              "    <tr>\n",
              "      <th>10431</th>\n",
              "      <td>9/4/19</td>\n",
              "      <td>0.04</td>\n",
              "      <td>1.30451</td>\n",
              "    </tr>\n",
              "    <tr>\n",
              "      <th>10432</th>\n",
              "      <td>9/5/19</td>\n",
              "      <td>0.02</td>\n",
              "      <td>1.75443</td>\n",
              "    </tr>\n",
              "    <tr>\n",
              "      <th>10433</th>\n",
              "      <td>9/6/19</td>\n",
              "      <td>0.02</td>\n",
              "      <td>-0.16945</td>\n",
              "    </tr>\n",
              "    <tr>\n",
              "      <th>10434</th>\n",
              "      <td>9/9/19</td>\n",
              "      <td>0.05</td>\n",
              "      <td>-0.19296</td>\n",
              "    </tr>\n",
              "    <tr>\n",
              "      <th>10435</th>\n",
              "      <td>9/10/19</td>\n",
              "      <td>0.05</td>\n",
              "      <td>-0.04058</td>\n",
              "    </tr>\n",
              "    <tr>\n",
              "      <th>10436</th>\n",
              "      <td>9/11/19</td>\n",
              "      <td>0.07</td>\n",
              "      <td>1.05792</td>\n",
              "    </tr>\n",
              "    <tr>\n",
              "      <th>10437</th>\n",
              "      <td>9/12/19</td>\n",
              "      <td>0.07</td>\n",
              "      <td>0.30343</td>\n",
              "    </tr>\n",
              "    <tr>\n",
              "      <th>10438</th>\n",
              "      <td>9/13/19</td>\n",
              "      <td>0.11</td>\n",
              "      <td>-0.21668</td>\n",
              "    </tr>\n",
              "  </tbody>\n",
              "</table>\n",
              "<p>10439 rows × 3 columns</p>\n",
              "</div>"
            ],
            "text/plain": [
              "          DATE  T10Y2Y  NASDAQCOM_PCH\n",
              "0       6/2/76    0.71        0.39859\n",
              "1       6/3/76    0.70        0.11343\n",
              "2       6/4/76    0.77       -0.57784\n",
              "3       6/7/76    0.79       -0.60399\n",
              "4       6/8/76    0.79       -0.11465\n",
              "5       6/9/76    0.82       -0.19513\n",
              "6      6/10/76    0.86        0.41403\n",
              "7      6/11/76    0.83        0.45814\n",
              "8      6/14/76    0.83        0.78668\n",
              "9      6/15/76    0.83        0.05656\n",
              "10     6/16/76    0.81        0.54268\n",
              "11     6/17/76    0.79        0.88834\n",
              "12     6/18/76    0.82        0.36781\n",
              "13     6/21/76    0.85        0.11105\n",
              "14     6/22/76    0.80       -0.67665\n",
              "15     6/23/76    0.80       -0.39089\n",
              "16     6/24/76    0.82        0.68393\n",
              "17     6/25/76    0.81        0.27840\n",
              "18     6/28/76    0.84       -0.19989\n",
              "19     6/29/76    0.84        0.26705\n",
              "20     6/30/76    0.84        0.23305\n",
              "21      7/1/76    0.86       -0.04429\n",
              "22      7/2/76    0.85        0.66460\n",
              "23      7/7/76    0.85       -0.02207\n",
              "24      7/8/76    0.90        0.20971\n",
              "25      7/9/76    1.01        0.76000\n",
              "26     7/12/76    1.04        0.50284\n",
              "27     7/13/76    1.03        0.03263\n",
              "28     7/14/76    1.03        0.51104\n",
              "29     7/15/76    1.05        0.08654\n",
              "...        ...     ...            ...\n",
              "10409   8/1/19    0.17       -0.78647\n",
              "10410   8/2/19    0.14       -1.31976\n",
              "10411   8/5/19    0.16       -3.47367\n",
              "10412   8/6/19    0.13        1.38787\n",
              "10413   8/7/19    0.12        0.37734\n",
              "10414   8/8/19    0.10        2.24260\n",
              "10415   8/9/19    0.11       -0.99532\n",
              "10416  8/12/19    0.07       -1.20278\n",
              "10417  8/13/19    0.02        1.94507\n",
              "10418  8/14/19    0.01       -3.02408\n",
              "10419  8/15/19    0.04       -0.09417\n",
              "10420  8/16/19    0.07        1.66578\n",
              "10421  8/19/19    0.07        1.35285\n",
              "10422  8/20/19    0.05       -0.67794\n",
              "10423  8/21/19    0.03        0.90140\n",
              "10424  8/22/19    0.01       -0.35934\n",
              "10425  8/23/19    0.01       -2.99849\n",
              "10426  8/26/19    0.00        1.31542\n",
              "10427  8/27/19   -0.04       -0.34110\n",
              "10428  8/28/19   -0.03        0.38250\n",
              "10429  8/29/19   -0.03        1.48293\n",
              "10430  8/30/19    0.00       -0.13184\n",
              "10431   9/4/19    0.04        1.30451\n",
              "10432   9/5/19    0.02        1.75443\n",
              "10433   9/6/19    0.02       -0.16945\n",
              "10434   9/9/19    0.05       -0.19296\n",
              "10435  9/10/19    0.05       -0.04058\n",
              "10436  9/11/19    0.07        1.05792\n",
              "10437  9/12/19    0.07        0.30343\n",
              "10438  9/13/19    0.11       -0.21668\n",
              "\n",
              "[10439 rows x 3 columns]"
            ]
          },
          "metadata": {
            "tags": []
          },
          "execution_count": 5
        }
      ]
    },
    {
      "cell_type": "markdown",
      "metadata": {
        "id": "F-iwC5Amw1OR",
        "colab_type": "text"
      },
      "source": [
        "Specify the columns used for clustering"
      ]
    },
    {
      "cell_type": "code",
      "metadata": {
        "id": "fmB9yeD1w4Ao",
        "colab_type": "code",
        "outputId": "78707f6d-2ecc-4f7c-e28a-83622b175922",
        "colab": {
          "base_uri": "https://localhost:8080/",
          "height": 1000
        }
      },
      "source": [
        "vectors_set1 = data_records[['T10Y2Y','NASDAQCOM_PCH']]\n",
        "print(vectors_set1)"
      ],
      "execution_count": 0,
      "outputs": [
        {
          "output_type": "stream",
          "text": [
            "       T10Y2Y  NASDAQCOM_PCH\n",
            "0        0.71        0.39859\n",
            "1        0.70        0.11343\n",
            "2        0.77       -0.57784\n",
            "3        0.79       -0.60399\n",
            "4        0.79       -0.11465\n",
            "5        0.82       -0.19513\n",
            "6        0.86        0.41403\n",
            "7        0.83        0.45814\n",
            "8        0.83        0.78668\n",
            "9        0.83        0.05656\n",
            "10       0.81        0.54268\n",
            "11       0.79        0.88834\n",
            "12       0.82        0.36781\n",
            "13       0.85        0.11105\n",
            "14       0.80       -0.67665\n",
            "15       0.80       -0.39089\n",
            "16       0.82        0.68393\n",
            "17       0.81        0.27840\n",
            "18       0.84       -0.19989\n",
            "19       0.84        0.26705\n",
            "20       0.84        0.23305\n",
            "21       0.86       -0.04429\n",
            "22       0.85        0.66460\n",
            "23       0.85       -0.02207\n",
            "24       0.90        0.20971\n",
            "25       1.01        0.76000\n",
            "26       1.04        0.50284\n",
            "27       1.03        0.03263\n",
            "28       1.03        0.51104\n",
            "29       1.05        0.08654\n",
            "...       ...            ...\n",
            "10409    0.17       -0.78647\n",
            "10410    0.14       -1.31976\n",
            "10411    0.16       -3.47367\n",
            "10412    0.13        1.38787\n",
            "10413    0.12        0.37734\n",
            "10414    0.10        2.24260\n",
            "10415    0.11       -0.99532\n",
            "10416    0.07       -1.20278\n",
            "10417    0.02        1.94507\n",
            "10418    0.01       -3.02408\n",
            "10419    0.04       -0.09417\n",
            "10420    0.07        1.66578\n",
            "10421    0.07        1.35285\n",
            "10422    0.05       -0.67794\n",
            "10423    0.03        0.90140\n",
            "10424    0.01       -0.35934\n",
            "10425    0.01       -2.99849\n",
            "10426    0.00        1.31542\n",
            "10427   -0.04       -0.34110\n",
            "10428   -0.03        0.38250\n",
            "10429   -0.03        1.48293\n",
            "10430    0.00       -0.13184\n",
            "10431    0.04        1.30451\n",
            "10432    0.02        1.75443\n",
            "10433    0.02       -0.16945\n",
            "10434    0.05       -0.19296\n",
            "10435    0.05       -0.04058\n",
            "10436    0.07        1.05792\n",
            "10437    0.07        0.30343\n",
            "10438    0.11       -0.21668\n",
            "\n",
            "[10439 rows x 2 columns]\n"
          ],
          "name": "stdout"
        }
      ]
    },
    {
      "cell_type": "markdown",
      "metadata": {
        "id": "0_zV1f5Ow8NQ",
        "colab_type": "text"
      },
      "source": [
        "Plot the graph for k-means"
      ]
    },
    {
      "cell_type": "code",
      "metadata": {
        "id": "ShgtuOJlxAPd",
        "colab_type": "code",
        "outputId": "f983da21-26e2-4fda-f802-92928787b427",
        "colab": {
          "base_uri": "https://localhost:8080/",
          "height": 441
        }
      },
      "source": [
        "vectors_set = []\n",
        "\n",
        "for i in range(len(vectors_set1)):\n",
        "  vectors_set.append([vectors_set1['T10Y2Y'][i], vectors_set1['NASDAQCOM_PCH'][i]])\n",
        "\n",
        "df = pd.DataFrame({\"x\": [v[0] for v in vectors_set], \"y\": [v[1] for v in vectors_set]})\n",
        "sns.lmplot(\"x\", \"y\", data=df, fit_reg=False, height=6)\n",
        "plt.show()"
      ],
      "execution_count": 0,
      "outputs": [
        {
          "output_type": "display_data",
          "data": {
            "image/png": "[encoded data removed]",
            "text/plain": [
              "<Figure size 432x432 with 1 Axes>"
            ]
          },
          "metadata": {
            "tags": []
          }
        }
      ]
    },
    {
      "cell_type": "markdown",
      "metadata": {
        "id": "fovEQGZJxGSA",
        "colab_type": "text"
      },
      "source": [
        "Estimate the k - number of clusters using Elbow technique"
      ]
    },
    {
      "cell_type": "code",
      "metadata": {
        "id": "mBGDm95axGyT",
        "colab_type": "code",
        "outputId": "b0f7ad5c-e7df-4f88-b449-59a00e7e3059",
        "colab": {
          "base_uri": "https://localhost:8080/",
          "height": 295
        }
      },
      "source": [
        "from sklearn.cluster import KMeans\n",
        "\n",
        "# Use the Elbow method to find a good number of clusters using WCSS\n",
        "\n",
        "#WCSS means (within-cluster sums of squares)\n",
        "#Also, minimizing the WCSS (within-cluster sums of squares) will necessarily maximize the distance between clusters.\n",
        "\n",
        "vals = vectors_set1.select_dtypes(include=[np.number]).fillna(0).values\n",
        "wcss = []\n",
        "for ii in range( 1, 30 ):\n",
        "    kmeans = KMeans(n_clusters=ii, init=\"k-means++\", n_init=10, max_iter=300) \n",
        "    kmeans.fit_predict(vals)\n",
        "    wcss.append(kmeans.inertia_)\n",
        "    \n",
        "plt.plot( wcss, 'ro-', label=\"WCSS\")\n",
        "plt.title(\"Computing WCSS for KMeans++\")\n",
        "plt.xlabel(\"Number of clusters\")\n",
        "plt.ylabel(\"WCSS\")\n",
        "plt.show()"
      ],
      "execution_count": 0,
      "outputs": [
        {
          "output_type": "display_data",
          "data": {
            "image/png": "[encoded data removed]",
            "text/plain": [
              "<Figure size 432x288 with 1 Axes>"
            ]
          },
          "metadata": {
            "tags": []
          }
        }
      ]
    },
    {
      "cell_type": "markdown",
      "metadata": {
        "id": "w4Pfho8jC8FX",
        "colab_type": "text"
      },
      "source": [
        "According to Elbow method, the above graph shows that the optimal value for k (number of clusters) is 3"
      ]
    },
    {
      "cell_type": "markdown",
      "metadata": {
        "id": "HzSrXO5Vxh75",
        "colab_type": "text"
      },
      "source": [
        "Code to implement k-means algorithm"
      ]
    },
    {
      "cell_type": "code",
      "metadata": {
        "id": "3enAem7nxid6",
        "colab_type": "code",
        "outputId": "c3fbbec7-c55f-492a-a2fd-5d5ff1b735c7",
        "colab": {
          "base_uri": "https://localhost:8080/",
          "height": 513
        }
      },
      "source": [
        "# k-means algorithm\n",
        "vectors = tf.constant(vectors_set)\n",
        "num_clusters = 3\n",
        "centroides = tf.Variable(tf.slice(tf.random_shuffle(vectors), [0, 0], [num_clusters, -1]))\n",
        "\n",
        "expanded_vectors = tf.expand_dims(vectors, 0)\n",
        "expanded_centroides = tf.expand_dims(centroides, 1)\n",
        "\n",
        "assignments = tf.argmin(tf.reduce_sum(tf.square(tf.subtract(expanded_vectors, expanded_centroides)), 2), 0)\n",
        "\n",
        "means = tf.concat(axis=0, values=[\n",
        "    tf.reduce_mean(\n",
        "        tf.gather(vectors,\n",
        "                  tf.reshape(\n",
        "                      tf.where(\n",
        "                          tf.equal(assignments, c)\n",
        "                      ), [1, -1])\n",
        "                  ), axis=[1])\n",
        "    for c in range(num_clusters)])\n",
        "\n",
        "update_centroides = tf.assign(centroides, means)\n",
        "\n",
        "init_op = tf.global_variables_initializer()\n",
        "\n",
        "sess = tf.Session()\n",
        "sess.run(init_op)\n",
        "\n",
        "for step in range(100):\n",
        "    _, centroid_values, assignment_values = sess.run([update_centroides, centroides, assignments])\n",
        "\n",
        "data = {\"x\": [], \"y\": [], \"cluster\": []}\n",
        "\n",
        "for i in range(len(assignment_values)):\n",
        "    data[\"x\"].append(vectors_set[i][0])\n",
        "    data[\"y\"].append(vectors_set[i][1])\n",
        "    data[\"cluster\"].append(assignment_values[i])\n",
        "\n",
        "df = pd.DataFrame(data)\n",
        "sns.lmplot(\"x\", \"y\", data=df, fit_reg=False, height=6, hue=\"cluster\", legend=False)\n",
        "plt.show()"
      ],
      "execution_count": 0,
      "outputs": [
        {
          "output_type": "stream",
          "text": [
            "WARNING:tensorflow:From <ipython-input-9-65eca074b9d2>:18: add_dispatch_support.<locals>.wrapper (from tensorflow.python.ops.array_ops) is deprecated and will be removed in a future version.\n",
            "Instructions for updating:\n",
            "Use tf.where in 2.0, which has the same broadcast rule as np.where\n"
          ],
          "name": "stdout"
        },
        {
          "output_type": "display_data",
          "data": {
            "image/png": "[encoded data removed]",
            "text/plain": [
              "<Figure size 432x432 with 1 Axes>"
            ]
          },
          "metadata": {
            "tags": []
          }
        }
      ]
    },
    {
      "cell_type": "markdown",
      "metadata": {
        "id": "-MPDCroISVb2",
        "colab_type": "text"
      },
      "source": [
        "Team: transformers-stock-market-prediction\n",
        "\n",
        "Business Objective:\n",
        "\n",
        "\n",
        "\n",
        "The main objective of this project is to predict the bubble formation and next recession based on several factors such as yields on short-term and long-term maturity bonds, NASDAQ index, Gross Domestic Product growth rate, Unemployment rate and the inverted yield curve. These factors are the strong indicators in determining the probability of upcoming recession.\n",
        "\n",
        "DataSet:\n",
        "\n",
        "\n",
        "\n",
        "We are using dataset with NASDAQ and Yield curve with the difference of 10-year and 2 year treasury notes. The dataset can be find on the common google drive under “transformers-stock-market-prediction” folder\n",
        "\n",
        "Link of dataset on drive:\n",
        "\n",
        "\n",
        "\n",
        "https://docs.google.com/spreadsheets/d/1a0N1mEgPjB8J15TxJsWW_BGDpdhKFk-M7MK1lIDNsn0/edit?usp=sharing\n",
        "\n",
        "\n",
        "\n",
        "Data Interpretation:\n",
        "\n",
        "\n",
        "Below is the data interpretation derived after applying unsupervised clustering algorithms on the data set:\n",
        "\n",
        "\n",
        "\n",
        "1. Inverted Yield curve – The yield on long term investment (10 year) is lower than the yield on short term investment (2 year)\n",
        "2. Real GDP - Growth rate less than 2% indicates Bubble formation and less than 0% or negative values indicate Recession period.\n",
        "3. The GDP values goes down when the NASDAQ index is decreased\n",
        "4. Unemployment level - As the value of NASDAQ composite index decreases, the rate of unemployment increases."
      ]
    }
  ]
}
